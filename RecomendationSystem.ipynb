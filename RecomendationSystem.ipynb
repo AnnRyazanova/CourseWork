{
 "cells": [
  {
   "cell_type": "code",
   "execution_count": 933,
   "metadata": {
    "collapsed": true
   },
   "outputs": [],
   "source": [
    "import pandas as pd\n",
    "from pandas import DataFrame, read_csv, Series\n",
    "import numpy as np\n",
    "import math\n",
    "import sklearn.datasets\n",
    "from sklearn.cluster import KMeans\n",
    "import nltk\n",
    "import re\n",
    "from sklearn import *\n",
    "from nltk.corpus import stopwords\n",
    "from sklearn.feature_extraction.text import CountVectorizer"
   ]
  },
  {
   "cell_type": "code",
   "execution_count": 934,
   "metadata": {
    "collapsed": true
   },
   "outputs": [],
   "source": [
    "# получение данных о студентах и их оценках по дисциплинам\n",
    "import csv\n",
    "def read_file(filename):\n",
    "    f = open(filename)\n",
    "    data = csv.reader(f)\n",
    "    mentions = dict()\n",
    "    for line in data:\n",
    "        student = line[0]\n",
    "        discipline = line[6]\n",
    "        type_d = line[7]\n",
    "        sem_rate = int(line[8])\n",
    "        bonus = int(line[9])\n",
    "        exam_rate = int(line[10])\n",
    "        rate = 0\n",
    "        if type_d == 'exam':\n",
    "            if (sem_rate >= 38) & (exam_rate >= 22):\n",
    "                rate = sem_rate + exam_rate + bonus\n",
    "        else: \n",
    "            if (sem_rate >= 60):\n",
    "                rate = sem_rate + bonus\n",
    "        if not student in mentions:\n",
    "            mentions[student] = dict()\n",
    "        mentions[student][discipline] = rate\n",
    "    f.close()\n",
    "    return mentions"
   ]
  },
  {
   "cell_type": "code",
   "execution_count": 935,
   "metadata": {
    "collapsed": true
   },
   "outputs": [],
   "source": [
    "# косинусная мера сходства: насколько два пользователя похожи друг на друга. \n",
    "def dist_cosine(vecA, vecB):\n",
    "    def dot_product(vecA, vecB):\n",
    "        d = 0.0\n",
    "        for dim in vecA:\n",
    "            if dim in vecB: \n",
    "                d += vecA[dim]*vecB[dim]\n",
    "        return d\n",
    "    a = dot_product(vecA,vecB)\n",
    "    b = math.sqrt(dot_product(vecA,vecA))\n",
    "    c = math.sqrt(dot_product(vecB,vecB))\n",
    "    if (a == 0) or (b == 0) or (c == 0):\n",
    "        return 0\n",
    "    else:\n",
    "        return  (a / (b * c))"
   ]
  },
  {
   "cell_type": "code",
   "execution_count": 936,
   "metadata": {
    "collapsed": true
   },
   "outputs": [],
   "source": [
    "def similar_students(studentID, studentsData, nBestStudents):\n",
    "    matches = [(u, dist_cosine(studentsData[studentID], studentsData[u])) for u in studentsData.keys() if u != studentID]\n",
    "    bestMatches = sorted(matches, key=lambda q:(q[1], q[0]), reverse=True)[:nBestStudents]\n",
    "    print(\"Most correlated with studentID: \" + str(studentID))\n",
    "    for line in bestMatches:\n",
    "        print(\"StudentID: \" + str(line[0]) + \"  Coeff: \" + str(line[1])) \n",
    "    return [(x[0], x[1]) for x in bestMatches]"
   ]
  },
  {
   "cell_type": "code",
   "execution_count": 937,
   "metadata": {},
   "outputs": [
    {
     "name": "stdout",
     "output_type": "stream",
     "text": [
      "Most correlated with studentID: 1\n",
      "StudentID: 9  Coeff: 0.7542152087381664\n",
      "StudentID: 6  Coeff: 0.7248624347806895\n",
      "StudentID: 7  Coeff: 0.7194365076928019\n",
      "StudentID: 5  Coeff: 0.6837763094049188\n",
      "StudentID: 4  Coeff: 0.5597650673256156\n",
      "StudentID: 2  Coeff: 0.22271363971105235\n",
      "StudentID: 3  Coeff: 0.06705017139158977\n",
      "StudentID: 8  Coeff: 0\n"
     ]
    }
   ],
   "source": [
    "students_test = read_file(\"raw_data32.csv\")\n",
    "#df = DataFrame(students_test)\n",
    "#df.columns.name = 'studentID'\n",
    "#df.index.name = 'discipline'    \n",
    "rec = similar_students('1', students_test, 10)\n"
   ]
  },
  {
   "cell_type": "code",
   "execution_count": 938,
   "metadata": {
    "collapsed": true
   },
   "outputs": [],
   "source": [
    "# Похожесть дисциплин\n",
    "def read_subjects(filename):\n",
    "    f = open(filename)\n",
    "    data = csv.reader(f)\n",
    "    subjects = dict()\n",
    "    for line in data:\n",
    "        ID = line[0]\n",
    "        discipline = line[1]\n",
    "        subjects[ID] = discipline\n",
    "    f.close()\n",
    "    return subjects"
   ]
  },
  {
   "cell_type": "code",
   "execution_count": 939,
   "metadata": {
    "collapsed": true
   },
   "outputs": [],
   "source": [
    "#sd = read_subjects(\"subjects.csv\")\n",
    "\n",
    "#nltk.download() \n",
    "\n",
    "stopwords = set(stopwords.words(\"russian\"))\n",
    "#print(stopwords)\n"
   ]
  },
  {
   "cell_type": "code",
   "execution_count": 940,
   "metadata": {
    "collapsed": true
   },
   "outputs": [],
   "source": [
    "def review_to_words(review_text):\n",
    "    review_text = review_text.replace('ё','е')\n",
    "    review_text = review_text.replace('Ё','Е')\n",
    "    # 1. Удаляем все, кроме букв\n",
    "    letters_only = re.sub(\"[^а-яА-Я]\", \" \", review_text) \n",
    "    # 2. Делаем все буквы строчными и создаем массив слов\n",
    "    words = letters_only.lower().split()                             \n",
    "    # 3. Удаляем незначащие слова\n",
    "    meaningful_words = [w for w in words if not w in stopwords]\n",
    "    # 4. Формируем текст, объединяя слова через пробел\n",
    "    return(\" \".join(meaningful_words))"
   ]
  },
  {
   "cell_type": "code",
   "execution_count": 941,
   "metadata": {},
   "outputs": [
    {
     "data": {
      "text/html": [
       "<div>\n",
       "<table border=\"1\" class=\"dataframe\">\n",
       "  <thead>\n",
       "    <tr style=\"text-align: right;\">\n",
       "      <th></th>\n",
       "      <th>ID</th>\n",
       "      <th>Name</th>\n",
       "      <th>Abbr</th>\n",
       "    </tr>\n",
       "  </thead>\n",
       "  <tbody>\n",
       "    <tr>\n",
       "      <th>0</th>\n",
       "      <td>1</td>\n",
       "      <td>Математическая логика и теория множеств</td>\n",
       "      <td>Мат. логика и ТМ</td>\n",
       "    </tr>\n",
       "    <tr>\n",
       "      <th>1</th>\n",
       "      <td>2</td>\n",
       "      <td>Математический анализ</td>\n",
       "      <td>Мат. Анализ</td>\n",
       "    </tr>\n",
       "    <tr>\n",
       "      <th>2</th>\n",
       "      <td>3</td>\n",
       "      <td>Алгебра и геометрия</td>\n",
       "      <td>Алг. и геом.</td>\n",
       "    </tr>\n",
       "  </tbody>\n",
       "</table>\n",
       "</div>"
      ],
      "text/plain": [
       "   ID                                     Name              Abbr\n",
       "0   1  Математическая логика и теория множеств  Мат. логика и ТМ\n",
       "1   2                    Математический анализ       Мат. Анализ\n",
       "2   3                      Алгебра и геометрия      Алг. и геом."
      ]
     },
     "execution_count": 941,
     "metadata": {},
     "output_type": "execute_result"
    }
   ],
   "source": [
    "d0 = pd.read_csv(\"subjects2.csv\", encoding='utf-8')\n",
    "d0.head(3)"
   ]
  },
  {
   "cell_type": "code",
   "execution_count": 942,
   "metadata": {},
   "outputs": [
    {
     "data": {
      "text/html": [
       "<div>\n",
       "<table border=\"1\" class=\"dataframe\">\n",
       "  <thead>\n",
       "    <tr style=\"text-align: right;\">\n",
       "      <th></th>\n",
       "      <th>ID</th>\n",
       "      <th>Name</th>\n",
       "      <th>Abbr</th>\n",
       "    </tr>\n",
       "  </thead>\n",
       "  <tbody>\n",
       "    <tr>\n",
       "      <th>0</th>\n",
       "      <td>1</td>\n",
       "      <td>математическая логика теория множеств</td>\n",
       "      <td>Мат. логика и ТМ</td>\n",
       "    </tr>\n",
       "    <tr>\n",
       "      <th>1</th>\n",
       "      <td>2</td>\n",
       "      <td>математический анализ</td>\n",
       "      <td>Мат. Анализ</td>\n",
       "    </tr>\n",
       "    <tr>\n",
       "      <th>2</th>\n",
       "      <td>3</td>\n",
       "      <td>алгебра геометрия</td>\n",
       "      <td>Алг. и геом.</td>\n",
       "    </tr>\n",
       "  </tbody>\n",
       "</table>\n",
       "</div>"
      ],
      "text/plain": [
       "   ID                                   Name              Abbr\n",
       "0   1  математическая логика теория множеств  Мат. логика и ТМ\n",
       "1   2                  математический анализ       Мат. Анализ\n",
       "2   3                      алгебра геометрия      Алг. и геом."
      ]
     },
     "execution_count": 942,
     "metadata": {},
     "output_type": "execute_result"
    }
   ],
   "source": [
    "d1 = d0.copy()\n",
    "d1['Name'] = d1['Name'].apply(lambda s: review_to_words(s))\n",
    "d1.head(3)"
   ]
  },
  {
   "cell_type": "code",
   "execution_count": 943,
   "metadata": {
    "collapsed": true
   },
   "outputs": [],
   "source": [
    "#vectorizer = CountVectorizer(analyzer = \"word\", tokenizer = None, preprocessor = None, stop_words = None, max_features = 50000, binary = False) \n",
    "#vectorized = vectorizer.fit_transform(d1['Name'])\n",
    "##print(vectorized)\n",
    "\n",
    "#num_samples, num_features = vectorized.shape\n",
    "## print((num_samples, num_features)) # 918 дисциплин, 1123-мерный вектор признаков\n",
    "\n",
    "#vocabulary = vectorizer.get_feature_names()\n",
    "##print(vocabulary[20])\n",
    "\n",
    "#num_clusters = 50\n",
    "#km = KMeans(n_clusters=num_clusters, init='random', n_init=10, verbose=1, random_state=3)\n",
    "#km.fit(vectorized)\n"
   ]
  },
  {
   "cell_type": "code",
   "execution_count": 944,
   "metadata": {
    "collapsed": true
   },
   "outputs": [],
   "source": [
    "#km.predict(vectorized)\n",
    "#km.cluster_centers_"
   ]
  },
  {
   "cell_type": "code",
   "execution_count": 945,
   "metadata": {
    "collapsed": true
   },
   "outputs": [],
   "source": [
    "##print(km.cluster_centers_)\n",
    "#print(km.labels_)"
   ]
  },
  {
   "cell_type": "code",
   "execution_count": 946,
   "metadata": {
    "collapsed": true
   },
   "outputs": [],
   "source": [
    "#d1['Name'][km.labels_ == 46]"
   ]
  },
  {
   "cell_type": "code",
   "execution_count": 947,
   "metadata": {
    "collapsed": true
   },
   "outputs": [],
   "source": [
    "# стемминг\n",
    "from nltk.stem.snowball import SnowballStemmer\n",
    "# print(SnowballStemmer(\"russian\").stem(\"гениально\"))  # проверка работы стемминга"
   ]
  },
  {
   "cell_type": "code",
   "execution_count": 948,
   "metadata": {
    "collapsed": true
   },
   "outputs": [],
   "source": [
    "rus_stemmer = SnowballStemmer('russian')\n",
    "\n",
    "class StemmedCountVectorizer(CountVectorizer):\n",
    "    def build_analyzer(self):\n",
    "        analyzer = super(StemmedCountVectorizer, self).build_analyzer()\n",
    "        return lambda doc: (rus_stemmer.stem(w) for w in analyzer(doc))\n",
    "    \n",
    "vectorizer = StemmedCountVectorizer(min_df=1, analyzer = \"word\", tokenizer = None, preprocessor = None, stop_words = None, max_features = None, binary = False)\n",
    "vectorized = vectorizer.fit_transform(d1['Name'])"
   ]
  },
  {
   "cell_type": "code",
   "execution_count": 949,
   "metadata": {},
   "outputs": [
    {
     "name": "stdout",
     "output_type": "stream",
     "text": [
      "Initialization complete\n",
      "Iteration  0, inertia 547.000\n",
      "Iteration  1, inertia 432.987\n",
      "Iteration  2, inertia 429.167\n",
      "Iteration  3, inertia 428.675\n",
      "Converged at iteration 3: center shift 0.000000e+00 within tolerance 4.368989e-07\n",
      "Initialization complete\n",
      "Iteration  0, inertia 546.000\n",
      "Iteration  1, inertia 437.737\n",
      "Iteration  2, inertia 434.944\n",
      "Iteration  3, inertia 434.094\n",
      "Converged at iteration 3: center shift 0.000000e+00 within tolerance 4.368989e-07\n",
      "Initialization complete\n",
      "Iteration  0, inertia 547.000\n",
      "Iteration  1, inertia 436.430\n",
      "Iteration  2, inertia 434.610\n",
      "Iteration  3, inertia 433.119\n",
      "Converged at iteration 3: center shift 0.000000e+00 within tolerance 4.368989e-07\n",
      "Initialization complete\n",
      "Iteration  0, inertia 552.000\n",
      "Iteration  1, inertia 421.217\n",
      "Iteration  2, inertia 420.542\n",
      "Converged at iteration 2: center shift 0.000000e+00 within tolerance 4.368989e-07\n",
      "Initialization complete\n",
      "Iteration  0, inertia 550.000\n",
      "Iteration  1, inertia 428.477\n",
      "Iteration  2, inertia 427.031\n",
      "Converged at iteration 2: center shift 0.000000e+00 within tolerance 4.368989e-07\n",
      "Initialization complete\n",
      "Iteration  0, inertia 546.000\n",
      "Iteration  1, inertia 436.318\n",
      "Iteration  2, inertia 434.718\n",
      "Converged at iteration 2: center shift 0.000000e+00 within tolerance 4.368989e-07\n",
      "Initialization complete\n",
      "Iteration  0, inertia 543.000\n",
      "Iteration  1, inertia 428.874\n",
      "Iteration  2, inertia 427.128\n",
      "Iteration  3, inertia 425.771\n",
      "Converged at iteration 3: center shift 0.000000e+00 within tolerance 4.368989e-07\n",
      "Initialization complete\n",
      "Iteration  0, inertia 550.000\n",
      "Iteration  1, inertia 415.597\n",
      "Converged at iteration 1: center shift 0.000000e+00 within tolerance 4.368989e-07\n",
      "Initialization complete\n",
      "Iteration  0, inertia 545.000\n",
      "Iteration  1, inertia 441.701\n",
      "Iteration  2, inertia 439.812\n",
      "Converged at iteration 2: center shift 0.000000e+00 within tolerance 4.368989e-07\n",
      "Initialization complete\n",
      "Iteration  0, inertia 543.000\n",
      "Iteration  1, inertia 439.389\n",
      "Iteration  2, inertia 438.370\n",
      "Converged at iteration 2: center shift 0.000000e+00 within tolerance 4.368989e-07\n",
      "Initialization complete\n",
      "Iteration  0, inertia 545.000\n",
      "Iteration  1, inertia 434.734\n",
      "Converged at iteration 1: center shift 0.000000e+00 within tolerance 4.368989e-07\n",
      "Initialization complete\n",
      "Iteration  0, inertia 546.000\n",
      "Iteration  1, inertia 423.995\n",
      "Iteration  2, inertia 422.292\n",
      "Iteration  3, inertia 421.525\n",
      "Converged at iteration 3: center shift 0.000000e+00 within tolerance 4.368989e-07\n",
      "Initialization complete\n",
      "Iteration  0, inertia 551.000\n",
      "Iteration  1, inertia 425.772\n",
      "Iteration  2, inertia 422.675\n",
      "Converged at iteration 2: center shift 0.000000e+00 within tolerance 4.368989e-07\n"
     ]
    },
    {
     "data": {
      "text/plain": [
       "KMeans(algorithm='auto', copy_x=True, init='k-means++', max_iter=300,\n",
       "    n_clusters=500, n_init=13, n_jobs=1, precompute_distances='auto',\n",
       "    random_state=3, tol=0.0001, verbose=1)"
      ]
     },
     "execution_count": 949,
     "metadata": {},
     "output_type": "execute_result"
    }
   ],
   "source": [
    "num_samples, num_features = vectorized.shape\n",
    "vocabulary = vectorizer.get_feature_names()\n",
    "\n",
    "num_clusters = 500\n",
    "km = KMeans(n_clusters=num_clusters, init='k-means++', n_init=13, verbose=1, random_state=3)\n",
    "km.fit(vectorized)"
   ]
  },
  {
   "cell_type": "code",
   "execution_count": 950,
   "metadata": {},
   "outputs": [
    {
     "data": {
      "text/plain": [
       "array([[ 0.,  0.,  0., ...,  0.,  0.,  0.],\n",
       "       [ 0.,  0.,  0., ...,  0.,  0.,  0.],\n",
       "       [ 0.,  0.,  0., ...,  0.,  0.,  0.],\n",
       "       ..., \n",
       "       [ 0.,  0.,  0., ...,  0.,  0.,  0.],\n",
       "       [ 0.,  0.,  0., ...,  0.,  0.,  0.],\n",
       "       [ 0.,  0.,  0., ...,  0.,  0.,  0.]])"
      ]
     },
     "execution_count": 950,
     "metadata": {},
     "output_type": "execute_result"
    }
   ],
   "source": [
    "km.predict(vectorized)\n",
    "km.cluster_centers_"
   ]
  },
  {
   "cell_type": "code",
   "execution_count": 951,
   "metadata": {},
   "outputs": [
    {
     "name": "stdout",
     "output_type": "stream",
     "text": [
      "[ 74  22  18   9 248  24  41 368  15 477 357 493  41 263  48 491  41  41\n",
      "  58  41  12  14 135   1 283 134 301 184  27  12 310 256  11  93 227 289\n",
      "   5 302  22 109 212  41  12  22 392 116 132   9 138 252  24 261 306  46\n",
      "   8  41  41 136  24 122 426   5 486 287 450 212 212 351 337 136 210  10\n",
      "  41 395  41 480 282 248 238 132   9 209  95  41 248  21  34  21  95 223\n",
      " 370 337 344 331 212  34  31 373 380 173 136  41 310  14 497  10  24  41\n",
      " 136 442 134 136 366 107 131  41 263  58  15 429  41 333 435 320 295  77\n",
      " 399 246 242 169 169 430 376  74  60 381  94 165 286 347 294 474 132  41\n",
      " 177 177 469 211 100 171  41 316  54  98 179 419 485 416  43 157  41  41\n",
      " 281 105  48  48  93 379 167 390 221  33 213   9 345 222 441  44 114  15\n",
      "  41 488 452  17  53  83 385  83  44 137 268  17  17  41  41  41 499 321\n",
      "  41  17 121 403 361  38 268 189  41 139 250 248 473 384 234 397  53  75\n",
      "  41 145 124 387  36  38  79  92 113 292  11  11 440  84 233 304  41  51\n",
      " 166 324  41 194  64  33 242 354 169 154 438  90  14 243 282 232 172 311\n",
      " 448  91 140  42  24  91  66  27 209 169 113 132 166 288 264 113 453 460\n",
      "  65  65 308 335  27  41  66 339 245 312  29 263 101  89  76 351 487 119\n",
      "  41 349  23 309  41 164 464 494  41  89 423  26 476 322 195  41 149  30\n",
      "  40 325 475  90 368 152  41 221  10   9  41  56  56  41  41 132 225 228\n",
      " 366  41 409 350 142 418 254 336  41   0  41 170 108 136  58  49  41  41\n",
      "  41  41 265  10 262 135 257 367 300 135  41 444  17  17  44  17  41 424\n",
      "  85  41 340 338  57  86 191 267  10 147 159 412  17 422 482 299 428 332\n",
      "  41  41 328 318  81 291 192 247 118  89 215   4 136  41 479 117 224 195\n",
      " 408   9 188 174 179 362 310 275 352  23 115 227 108 154  58 161  93  29\n",
      " 235  67  31 369 269  59   9 150 301  16  54  18 334  19 466  41  56 111\n",
      " 266  28 263  58 383  41 388  41 236  41 173  69 194 341 128 133  22 194\n",
      "  39 138 129 116 371 178 217  41  41  41 133 315 202 151  73  61 372 405\n",
      "  72  41  41  41 277  64 368 129 478 481  89  41  50 233 456 162 111 313\n",
      " 415  41  41 484  31 252 456  41 202 315 132 118  14  43 130  41 342 446\n",
      " 364   7 355  41 136 136 131 214 133 134 103  41 459 319  88 458 207 410\n",
      "  52  41 248 200  32  41 470   2 158  47  62  41   9 261 434 365 375 437\n",
      "  20 261  99  41 280 261 158  48 396  32 343 407 329  41 378 327 315 187\n",
      "  37  37 443 414  41  70 103  62 274 492 270 455  88  41 208  41  52  15\n",
      "  15   3 447  89  37 317 123 248 359 360  32 406  32  41 393 461 470 158\n",
      " 158 158 467 158 158 158 158 230  62 230 259 120 261  32 348 258 382 196\n",
      " 158 190 445 187 158 356  34 255 389 261 261 175 196 220 180 417 218 110\n",
      " 258 146  10 158 305 421  41 495 158  41 346 330 156  37 498  37 261 158\n",
      "  41 205 132 132 206  23 290 136 120  41 322 307  35 483 111  22 411 266\n",
      " 398  55  41  41  41  41  41  41  41 404 176 176 296 249  96  41  27 301\n",
      "  41  41  41  46  10 163 248 401  41 263  41 298  41 131 251 402  40  10\n",
      " 279  41 471  34  13 287  41  40 374 102  41 193 213   9  41  24 211  41\n",
      "  41   9  10 285 462 273 182 201 229  63  38 496   1 420 114 468 302 248\n",
      " 297 141 125 112 323 239  78 465 198  38  45 183 201 219 101 104  60 160\n",
      " 136 306 155 271 185 341   1 112 204  41 216  38 203  41 314 431   6  14\n",
      " 134  19 141 358 135  73  12  41  97  65 436 383 186  89 260  22 353  41\n",
      " 439  41  41  83 326  87 413 454 148  41  38  38 244  41 391 433 181  55\n",
      "  41 400  41 207 276  44 432 231 427  23 199 357  41 357   9 184 224 283\n",
      " 134 118  41 394 472 153 127 107  41 272 262 310 302 277  82  71 377 322\n",
      " 236 265 226 108  41 293 117 289 303  41 241 241  41 331 457  10 303 161\n",
      "  80 144 490  25  41 143 253 253 140 141  90  13  80 144  39 227 166  11\n",
      "  76 168  26  11  42  47 250  41  89  77 126 425 284 197 237 489  23 278\n",
      " 463 451  89 234  38 449  17  86  68 240 363  41 343 343 436 343 386 106]\n"
     ]
    }
   ],
   "source": [
    "print(km.labels_)"
   ]
  },
  {
   "cell_type": "code",
   "execution_count": 952,
   "metadata": {},
   "outputs": [
    {
     "data": {
      "text/plain": [
       "5      теоретическая практическая механика\n",
       "50                  теоретическая механика\n",
       "58                 вычислительная механика\n",
       "106      теоретическая прикладная механика\n",
       "256                    механика разрушений\n",
       "717               теоретическая педагогика\n",
       "Name: Name, dtype: object"
      ]
     },
     "execution_count": 952,
     "metadata": {},
     "output_type": "execute_result"
    }
   ],
   "source": [
    "d1['Name'][km.labels_ == 24]  \n",
    "    # 25 кластер \"плохой\" при init = random, num_kluster = 500, n_init = 13\n",
    "    # *** 41 кластер \"плохой\" при init = k_means++, num_kluster = 500, n_init = 13\n",
    "    # хорошое разбиение при init = k_means++, num_kluster = 700, n_init = 13, но очень много \"одиночных\" дисциплин\n",
    "    # 23 кластер \"плохой\" при init = k_means++, num_kluster = 600, n_init = 13\n",
    "    # 79 кластер \"плохой\" при init = k_means++, num_kluster = 600, n_init = 15"
   ]
  },
  {
   "cell_type": "code",
   "execution_count": null,
   "metadata": {},
   "outputs": [],
   "source": []
  },
  {
   "cell_type": "code",
   "execution_count": 953,
   "metadata": {},
   "outputs": [],
   "source": [
    "import scipy as sp\n",
    "\n",
    "def similar_disciplines(from_info, discipline):\n",
    "    discipline = review_to_words(discipline)\n",
    "    discipline_vec = vectorizer.transform([discipline])\n",
    "    discipline_label = km.predict(discipline_vec)[0]\n",
    "    return from_info[km.labels_ == discipline_label]"
   ]
  },
  {
   "cell_type": "code",
   "execution_count": 955,
   "metadata": {},
   "outputs": [
    {
     "name": "stdout",
     "output_type": "stream",
     "text": [
      "659    теория конечных графов\n",
      "Name: Name, dtype: object\n"
     ]
    }
   ],
   "source": [
    "sim_dis_info = similar_disciplines(d1['Name'], \"Теория графов\")\n",
    "print(sim_dis_info)"
   ]
  }
 ],
 "metadata": {
  "kernelspec": {
   "display_name": "Python 3",
   "language": "python",
   "name": "python3"
  },
  "language_info": {
   "codemirror_mode": {
    "name": "ipython",
    "version": 3
   },
   "file_extension": ".py",
   "mimetype": "text/x-python",
   "name": "python",
   "nbconvert_exporter": "python",
   "pygments_lexer": "ipython3",
   "version": "3.6.0"
  }
 },
 "nbformat": 4,
 "nbformat_minor": 2
}
