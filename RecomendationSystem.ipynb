{
 "cells": [
  {
   "cell_type": "code",
   "execution_count": 340,
   "metadata": {},
   "outputs": [],
   "source": [
    "import pandas as pd\n",
    "from pandas import DataFrame, read_csv, Series\n",
    "import numpy as np\n",
    "import math\n",
    "import sklearn.datasets\n",
    "from sklearn.cluster import KMeans\n",
    "import nltk\n",
    "import re\n",
    "from nltk.corpus import stopwords\n",
    "from sklearn.feature_extraction.text import CountVectorizer"
   ]
  },
  {
   "cell_type": "code",
   "execution_count": 341,
   "metadata": {
    "collapsed": true
   },
   "outputs": [],
   "source": [
    "# получение данных о студентах и их оценках по дисциплинам\n",
    "import csv\n",
    "def read_file(filename):\n",
    "    f = open(filename)\n",
    "    data = csv.reader(f)\n",
    "    mentions = dict()\n",
    "    for line in data:\n",
    "        student = line[0]\n",
    "        discipline = line[6]\n",
    "        type_d = line[7]\n",
    "        sem_rate = int(line[8])\n",
    "        bonus = int(line[9])\n",
    "        exam_rate = int(line[10])\n",
    "        rate = 0\n",
    "        if type_d == 'exam':\n",
    "            if (sem_rate >= 38) & (exam_rate >= 22):\n",
    "                rate = sem_rate + exam_rate + bonus\n",
    "        else: \n",
    "            if (sem_rate >= 60):\n",
    "                rate = sem_rate + bonus\n",
    "        if not student in mentions:\n",
    "            mentions[student] = dict()\n",
    "        mentions[student][discipline] = rate\n",
    "    f.close()\n",
    "    return mentions"
   ]
  },
  {
   "cell_type": "code",
   "execution_count": 342,
   "metadata": {
    "collapsed": true
   },
   "outputs": [],
   "source": [
    "# косинусная мера сходства: насколько два пользователя похожи друг на друга. \n",
    "def dist_cosine(vecA, vecB):\n",
    "    def dot_product(vecA, vecB):\n",
    "        d = 0.0\n",
    "        for dim in vecA:\n",
    "            if dim in vecB: \n",
    "                d += vecA[dim]*vecB[dim]\n",
    "        return d\n",
    "    a = dot_product(vecA,vecB)\n",
    "    b = math.sqrt(dot_product(vecA,vecA))\n",
    "    c = math.sqrt(dot_product(vecB,vecB))\n",
    "    if (a == 0) or (b == 0) or (c == 0):\n",
    "        return 0\n",
    "    else:\n",
    "        return  (a / (b * c))"
   ]
  },
  {
   "cell_type": "code",
   "execution_count": 343,
   "metadata": {
    "collapsed": true
   },
   "outputs": [],
   "source": [
    "def similar_students(studentID, studentsData, nBestStudents = 3):\n",
    "    matches = [(u, dist_cosine(studentsData[studentID], studentsData[u])) for u in studentsData.keys() if u != studentID]\n",
    "    bestMatches = sorted(matches, key=lambda q:(q[1], q[0]), reverse=True)[:nBestStudents]\n",
    "    print(\"Most correlated with studentID: \" + str(studentID))\n",
    "    for line in bestMatches:\n",
    "        print(\"StudentID: \" + str(line[0]) + \"  Coeff: \" + str(line[1])) \n",
    "    return [(x[0], x[1]) for x in bestMatches]"
   ]
  },
  {
   "cell_type": "code",
   "execution_count": 344,
   "metadata": {},
   "outputs": [
    {
     "name": "stdout",
     "output_type": "stream",
     "text": [
      "Most correlated with studentID: 1\n",
      "StudentID: 9  Coeff: 0.7542152087381664\n",
      "StudentID: 6  Coeff: 0.7248624347806895\n",
      "StudentID: 7  Coeff: 0.7194365076928019\n",
      "StudentID: 5  Coeff: 0.6837763094049188\n",
      "StudentID: 4  Coeff: 0.5597650673256156\n",
      "StudentID: 2  Coeff: 0.22271363971105235\n",
      "StudentID: 3  Coeff: 0.06705017139158977\n",
      "StudentID: 8  Coeff: 0\n"
     ]
    }
   ],
   "source": [
    "students_test = read_file(\"raw_data32.csv\")\n",
    "#df = DataFrame(students_test)\n",
    "#df.columns.name = 'studentID'\n",
    "#df.index.name = 'discipline'    \n",
    "rec = similar_students('1', students_test, 10)\n"
   ]
  },
  {
   "cell_type": "code",
   "execution_count": 345,
   "metadata": {
    "collapsed": true
   },
   "outputs": [],
   "source": [
    "# Похожесть дисциплин\n",
    "def read_subjects(filename):\n",
    "    f = open(filename)\n",
    "    data = csv.reader(f)\n",
    "    subjects = dict()\n",
    "    for line in data:\n",
    "        ID = line[0]\n",
    "        discipline = line[1]\n",
    "        subjects[ID] = discipline\n",
    "    f.close()\n",
    "    return subjects"
   ]
  },
  {
   "cell_type": "code",
   "execution_count": 346,
   "metadata": {
    "collapsed": true
   },
   "outputs": [],
   "source": [
    "#sd = read_subjects(\"subjects.csv\")\n",
    "\n",
    "#nltk.download() \n",
    "\n",
    "stopwords = set(stopwords.words(\"russian\"))\n",
    "#print(stopwords)\n"
   ]
  },
  {
   "cell_type": "code",
   "execution_count": 347,
   "metadata": {
    "collapsed": true
   },
   "outputs": [],
   "source": [
    "def review_to_words(review_text):\n",
    "    review_text = review_text.replace('ё','е')\n",
    "    review_text = review_text.replace('Ё','Е')\n",
    "    # 1. Удаляем все, кроме букв\n",
    "    letters_only = re.sub(\"[^а-яА-Я]\", \" \", review_text) \n",
    "    # 2. Делаем все буквы строчными и создаем массив слов\n",
    "    words = letters_only.lower().split()                             \n",
    "    # 3. Удаляем незначащие слова\n",
    "    meaningful_words = [w for w in words if not w in stopwords]\n",
    "    # 4. Формируем текст, объединяя слова через пробел\n",
    "    return(\" \".join(meaningful_words))"
   ]
  },
  {
   "cell_type": "code",
   "execution_count": 348,
   "metadata": {},
   "outputs": [
    {
     "data": {
      "text/html": [
       "<div>\n",
       "<table border=\"1\" class=\"dataframe\">\n",
       "  <thead>\n",
       "    <tr style=\"text-align: right;\">\n",
       "      <th></th>\n",
       "      <th>ID</th>\n",
       "      <th>Name</th>\n",
       "      <th>Abbr</th>\n",
       "    </tr>\n",
       "  </thead>\n",
       "  <tbody>\n",
       "    <tr>\n",
       "      <th>0</th>\n",
       "      <td>1</td>\n",
       "      <td>Математическая логика и теория множеств</td>\n",
       "      <td>Мат. логика и ТМ</td>\n",
       "    </tr>\n",
       "    <tr>\n",
       "      <th>1</th>\n",
       "      <td>2</td>\n",
       "      <td>Математический анализ</td>\n",
       "      <td>Мат. Анализ</td>\n",
       "    </tr>\n",
       "    <tr>\n",
       "      <th>2</th>\n",
       "      <td>3</td>\n",
       "      <td>Алгебра и геометрия</td>\n",
       "      <td>Алг. и геом.</td>\n",
       "    </tr>\n",
       "  </tbody>\n",
       "</table>\n",
       "</div>"
      ],
      "text/plain": [
       "   ID                                     Name              Abbr\n",
       "0   1  Математическая логика и теория множеств  Мат. логика и ТМ\n",
       "1   2                    Математический анализ       Мат. Анализ\n",
       "2   3                      Алгебра и геометрия      Алг. и геом."
      ]
     },
     "execution_count": 348,
     "metadata": {},
     "output_type": "execute_result"
    }
   ],
   "source": [
    "d0 = pd.read_csv(\"subjects2.csv\", encoding='utf-8')\n",
    "d0.head(3)"
   ]
  },
  {
   "cell_type": "code",
   "execution_count": 349,
   "metadata": {},
   "outputs": [
    {
     "data": {
      "text/html": [
       "<div>\n",
       "<table border=\"1\" class=\"dataframe\">\n",
       "  <thead>\n",
       "    <tr style=\"text-align: right;\">\n",
       "      <th></th>\n",
       "      <th>ID</th>\n",
       "      <th>Name</th>\n",
       "      <th>Abbr</th>\n",
       "    </tr>\n",
       "  </thead>\n",
       "  <tbody>\n",
       "    <tr>\n",
       "      <th>0</th>\n",
       "      <td>1</td>\n",
       "      <td>математическая логика теория множеств</td>\n",
       "      <td>Мат. логика и ТМ</td>\n",
       "    </tr>\n",
       "    <tr>\n",
       "      <th>1</th>\n",
       "      <td>2</td>\n",
       "      <td>математический анализ</td>\n",
       "      <td>Мат. Анализ</td>\n",
       "    </tr>\n",
       "    <tr>\n",
       "      <th>2</th>\n",
       "      <td>3</td>\n",
       "      <td>алгебра геометрия</td>\n",
       "      <td>Алг. и геом.</td>\n",
       "    </tr>\n",
       "  </tbody>\n",
       "</table>\n",
       "</div>"
      ],
      "text/plain": [
       "   ID                                   Name              Abbr\n",
       "0   1  математическая логика теория множеств  Мат. логика и ТМ\n",
       "1   2                  математический анализ       Мат. Анализ\n",
       "2   3                      алгебра геометрия      Алг. и геом."
      ]
     },
     "execution_count": 349,
     "metadata": {},
     "output_type": "execute_result"
    }
   ],
   "source": [
    "d1 = d0.copy()\n",
    "d1['Name'] = d1['Name'].apply(lambda s: review_to_words(s))\n",
    "d1.head(3)"
   ]
  },
  {
   "cell_type": "code",
   "execution_count": 350,
   "metadata": {
    "collapsed": true
   },
   "outputs": [],
   "source": [
    "#vectorizer = CountVectorizer(analyzer = \"word\", tokenizer = None, preprocessor = None, stop_words = None, max_features = 50000, binary = False) \n",
    "#vectorized = vectorizer.fit_transform(d1['Name'])\n",
    "##print(vectorized)\n",
    "\n",
    "#num_samples, num_features = vectorized.shape\n",
    "## print((num_samples, num_features)) # 918 дисциплин, 1123-мерный вектор признаков\n",
    "\n",
    "#vocabulary = vectorizer.get_feature_names()\n",
    "##print(vocabulary[20])\n",
    "\n",
    "#num_clusters = 50\n",
    "#km = KMeans(n_clusters=num_clusters, init='random', n_init=10, verbose=1, random_state=3)\n",
    "#km.fit(vectorized)\n"
   ]
  },
  {
   "cell_type": "code",
   "execution_count": 351,
   "metadata": {
    "collapsed": true
   },
   "outputs": [],
   "source": [
    "#km.predict(vectorized)\n",
    "#km.cluster_centers_"
   ]
  },
  {
   "cell_type": "code",
   "execution_count": 352,
   "metadata": {
    "collapsed": true
   },
   "outputs": [],
   "source": [
    "##print(km.cluster_centers_)\n",
    "#print(km.labels_)"
   ]
  },
  {
   "cell_type": "code",
   "execution_count": 353,
   "metadata": {
    "collapsed": true
   },
   "outputs": [],
   "source": [
    "#d1['Name'][km.labels_ == 46]"
   ]
  },
  {
   "cell_type": "code",
   "execution_count": 354,
   "metadata": {
    "collapsed": true
   },
   "outputs": [],
   "source": [
    "# стемминг\n",
    "from nltk.stem.snowball import SnowballStemmer\n",
    "# print(SnowballStemmer(\"russian\").stem(\"гениально\"))  # проверка работы стемминга"
   ]
  },
  {
   "cell_type": "code",
   "execution_count": 355,
   "metadata": {
    "collapsed": true
   },
   "outputs": [],
   "source": [
    "rus_stemmer = SnowballStemmer('russian')\n",
    "\n",
    "class StemmedCountVectorizer(CountVectorizer):\n",
    "    def build_analyzer(self):\n",
    "        analyzer = super(StemmedCountVectorizer, self).build_analyzer()\n",
    "        return lambda doc: (rus_stemmer.stem(w) for w in analyzer(doc))\n",
    "    \n",
    "vectorizer = StemmedCountVectorizer(min_df=1, analyzer = \"word\", tokenizer = None, preprocessor = None, stop_words = None, max_features = None, binary = False)\n",
    "vectorized = vectorizer.fit_transform(d1['Name'])"
   ]
  },
  {
   "cell_type": "code",
   "execution_count": 356,
   "metadata": {},
   "outputs": [
    {
     "name": "stdout",
     "output_type": "stream",
     "text": [
      "Initialization complete\n",
      "Iteration  0, inertia 241.000\n",
      "Iteration  1, inertia 182.033\n",
      "Converged at iteration 1: center shift 0.000000e+00 within tolerance 4.368989e-07\n",
      "Initialization complete\n",
      "Iteration  0, inertia 245.000\n",
      "Iteration  1, inertia 190.714\n",
      "Converged at iteration 1: center shift 0.000000e+00 within tolerance 4.368989e-07\n",
      "Initialization complete\n",
      "Iteration  0, inertia 242.000\n",
      "Iteration  1, inertia 186.224\n",
      "Iteration  2, inertia 185.805\n",
      "Iteration  3, inertia 185.461\n",
      "Converged at iteration 3: center shift 0.000000e+00 within tolerance 4.368989e-07\n",
      "Initialization complete\n",
      "Iteration  0, inertia 249.000\n",
      "Iteration  1, inertia 192.451\n",
      "Converged at iteration 1: center shift 0.000000e+00 within tolerance 4.368989e-07\n",
      "Initialization complete\n",
      "Iteration  0, inertia 243.000\n",
      "Iteration  1, inertia 190.427\n",
      "Converged at iteration 1: center shift 0.000000e+00 within tolerance 4.368989e-07\n",
      "Initialization complete\n",
      "Iteration  0, inertia 244.000\n",
      "Iteration  1, inertia 185.786\n",
      "Iteration  2, inertia 184.573\n",
      "Iteration  3, inertia 184.173\n",
      "Converged at iteration 3: center shift 0.000000e+00 within tolerance 4.368989e-07\n",
      "Initialization complete\n",
      "Iteration  0, inertia 243.000\n",
      "Iteration  1, inertia 181.235\n",
      "Converged at iteration 1: center shift 0.000000e+00 within tolerance 4.368989e-07\n",
      "Initialization complete\n",
      "Iteration  0, inertia 241.000\n",
      "Iteration  1, inertia 180.568\n",
      "Converged at iteration 1: center shift 0.000000e+00 within tolerance 4.368989e-07\n"
     ]
    },
    {
     "data": {
      "text/plain": [
       "KMeans(algorithm='auto', copy_x=True, init='k-means++', max_iter=300,\n",
       "    n_clusters=650, n_init=8, n_jobs=1, precompute_distances='auto',\n",
       "    random_state=3, tol=0.0001, verbose=1)"
      ]
     },
     "execution_count": 356,
     "metadata": {},
     "output_type": "execute_result"
    }
   ],
   "source": [
    "num_samples, num_features = vectorized.shape\n",
    "vocabulary = vectorizer.get_feature_names()\n",
    "\n",
    "num_clusters = 650\n",
    "km = KMeans(n_clusters=num_clusters, init='k-means++', n_init=8, verbose=1, random_state=3)\n",
    "km.fit(vectorized)"
   ]
  },
  {
   "cell_type": "code",
   "execution_count": 357,
   "metadata": {},
   "outputs": [
    {
     "data": {
      "text/plain": [
       "array([[ 0.,  0.,  0., ...,  0.,  0.,  0.],\n",
       "       [ 0.,  0.,  0., ...,  0.,  0.,  0.],\n",
       "       [ 0.,  0.,  0., ...,  0.,  0.,  0.],\n",
       "       ..., \n",
       "       [ 0.,  0.,  0., ...,  0.,  0.,  0.],\n",
       "       [ 0.,  0.,  0., ...,  0.,  0.,  0.],\n",
       "       [ 0.,  0.,  0., ...,  0.,  0.,  0.]])"
      ]
     },
     "execution_count": 357,
     "metadata": {},
     "output_type": "execute_result"
    }
   ],
   "source": [
    "km.predict(vectorized)\n",
    "km.cluster_centers_"
   ]
  },
  {
   "cell_type": "code",
   "execution_count": 358,
   "metadata": {},
   "outputs": [
    {
     "name": "stdout",
     "output_type": "stream",
     "text": [
      "[471 466  39 582 266  46  11  32 490 533 456 343  11  39  72  11  11 597\n",
      " 390  11  37  11  23 411  25 130  96  71 617  37 157 369   4  60 394  67\n",
      " 636  41  64 359  12 587 547  11 446 108   7 582 180 262  46 283 224 154\n",
      " 266  11  11 470 586 538 541 616 347 111 537  12  12 323 325  15 287   1\n",
      "  11 589  11 378 166 576  59 464 266 534 584  11 266 645 151 429 584 164\n",
      " 181 325 327 229  12  81 167 445 458  99  15 507 421 638 452   1  46  11\n",
      "  15 509 130 608 385 409 428  11  39 596  65 297 627 354 528 460 295  87\n",
      "  19 102  79  33 530 381 282  53  20 277  78 235 226 417 208 501 544 571\n",
      " 484 109 539 236  25  88 621 556 114 273 118 348  22  24 257 205  11 518\n",
      " 351  26  72 531  60 279 194 106  58  35 209 177  43 320 249 346  38 505\n",
      " 633   2   2 482 418 485 364  48 328  11 603 175 383  11  11  11 549 193\n",
      " 492 186 135 294 232 566 231 171 611 188  48 266 392 410 468 419 418 173\n",
      " 598 101 228 483 187  13 461 142  50 331   4 512 433 172 200 336  11  32\n",
      "  94 337  11 516  36  35  79 263  33  61 100 573 511 246 166 145  85 199\n",
      " 408 221 107 502 570 374 269 451  82  33   8 640 564 375 349  50 403 525\n",
      " 105 514 303 306 591 619 595 520 569 414 125 634 545 163  77 647 339  69\n",
      "  11 319 644 423 555 120 469 542  11 332 450 481 395 459 119 377 122 624\n",
      " 360 321 498  84 568 281   5  58 560 579  11  10 344  11  11   7 371 129\n",
      " 385  11 430 309 203 350 250 404   5 121 646 341 513 608 596  75  11  11\n",
      "  11  11 340 562 116 425  42 289 284  23  11 174 599 613 328 554  11 264\n",
      "  57  11 391 136  29  34 137 139   1 113 247 642 437 324 447 182 251 304\n",
      " 578 494 345 326 138 365 314 401 178 332 253 305  15  11 455 162  53 119\n",
      " 356 582  59 216 478 434  44 291 217  66 191 357  83  61 596 443  60 125\n",
      " 441 198 167 316  93  28 602 104 601 628 114 390 196  30 436  11 344 432\n",
      " 140 342 641 373  68 465 470 572 630 472  99 130 301 260 128 457 515 301\n",
      "  74 180  76 108 152 275 202  11  11  11 141  27 155 215  16 300  91 241\n",
      " 293  11  11  11   0  36  32 523 203 271 580  11 157 439  63 529 635 245\n",
      " 535  11 476 366 622 262  63  11 290  27   7 178 563 257  90  11 234 256\n",
      "  31 296 302 618  15  15 266 242 141 130 210 496 362 184  52 386 169 258\n",
      "  54 558 463 237 583 532 179 165 165 605 103 588 582 283 161 387 416  11\n",
      " 283 197  24  11 393 280 165 338 519 552 270 398 358 489  11 440  27 276\n",
      " 553 197  95 384  11  73 210 103 222 220 427 413 606  11 214 431  54 490\n",
      " 343 370 298 453 453 402 146 266 238 318 577 372 543  11 527 475 179 165\n",
      " 165 480 165 165 165 165 604 367 103 367 283  70  47 607 388 227 420 382\n",
      " 165 233 353 276 165  44 593 397 444 283 283 160 522 123 240 278 322 352\n",
      " 500 189 615 165 406 355  11 315 165  11 307 467 265 454 561 197 283 165\n",
      "  11 124   7   7 274  66  84  15  70  11 459 399  18 649  27 592 248 567\n",
      " 272 312 497 491 477 637  11 310 521 168 168 168 254 150 131 590 510  96\n",
      " 504 594 449 415 536 127 266 212  11  39  11 334  11 407 267 486 360   1\n",
      " 204  11 524 151 332 632  11 111 442  12 503 261 209 582 612 621 623  11\n",
      " 546   6 625 133 148 144 313 581 218 115  55 479 411 487  38 299  41 110\n",
      " 255 629 389  51 330 192  97 230  45  55 400 225 132 112  92 620  20 159\n",
      "  15 224 244 288 117 639 540  51 223 412 268  55 239  11 201 424   3 438\n",
      " 130  30  14 156 126  16  37 610 207 575  21  68 153 163 211  11 335  11\n",
      " 462  11 548 631 488  56 426  98 134  11  55   9 517 565 308 380 379 508\n",
      "  11 448 557 169 190 328 551 317 363  66 614 456  11 456   6  71  53  25\n",
      " 130 473  11 405 435 195 286 183  11 252 116 157  41   0 643  89 368 459\n",
      " 149 340 311  83  11 333 626 585 185  11  89  89  11 229 499 574 185 170\n",
      "  62  40 396 506   8 213 158 158 107 495 559  19  62  40  74 394 550   4\n",
      "  77 143 648 600  49 493  48 422 163  87  17 526  86 147 176 376 474 285\n",
      " 361 219 332 292  13  21   2 609  80 243 329  11 270 270  21 270 259 206]\n"
     ]
    }
   ],
   "source": [
    "print(km.labels_)"
   ]
  },
  {
   "cell_type": "code",
   "execution_count": 359,
   "metadata": {},
   "outputs": [
    {
     "data": {
      "text/plain": [
       "6                     консультация\n",
       "12                   физвоспитание\n",
       "15                    русский язык\n",
       "16          самостоятельная работа\n",
       "19                  спецподготовка\n",
       "21                    введение ооп\n",
       "43              комплексный анализ\n",
       "55                    правоведение\n",
       "56                             бжд\n",
       "72                             ксе\n",
       "74                     факультатив\n",
       "83                             нис\n",
       "107          микропрограммирование\n",
       "115                               \n",
       "160                     социология\n",
       "189            гражданский процесс\n",
       "193                 криминалистика\n",
       "194         профессиональная этика\n",
       "195                   криминология\n",
       "232                   аэроакустика\n",
       "236                 гидроупругость\n",
       "288                            ооп\n",
       "296                           субд\n",
       "316                               \n",
       "319              нелинейные модели\n",
       "320                               \n",
       "325                               \n",
       "340                               \n",
       "341                               \n",
       "342                курсовая работа\n",
       "                  ...             \n",
       "539         поведение потребителей\n",
       "543          связи общественностью\n",
       "554            физическая культура\n",
       "562                               \n",
       "571                документооборот\n",
       "589                        коучинг\n",
       "636                        тренинг\n",
       "639       управленческая экономика\n",
       "648                  стеганография\n",
       "657                             ут\n",
       "672          экономика образования\n",
       "692                               \n",
       "694                               \n",
       "696                               \n",
       "703                            упп\n",
       "708                               \n",
       "719                               \n",
       "769                   виктимология\n",
       "789          стохастический анализ\n",
       "791                    бухгалтерия\n",
       "793                      адаптация\n",
       "801                               \n",
       "810     антикоррупционная политика\n",
       "822                               \n",
       "830                               \n",
       "836    криптографические протоколы\n",
       "850                               \n",
       "855                               \n",
       "858                               \n",
       "911                               \n",
       "Name: Name, dtype: object"
      ]
     },
     "execution_count": 359,
     "metadata": {},
     "output_type": "execute_result"
    }
   ],
   "source": [
    "d1['Name'][km.labels_ == 11]\n",
    "    # 25 кластер \"очень плохой\" при init = random, num_kluster = 500, n_init = 13, неправильно соотносит предмет \"Теория графов\"\n",
    "    # 41 кластер \"плохой\" при init = k_means++, num_kluster = 500, n_init = 13\n",
    "    # 62 кластер \"плохой\" при init = k_means++, num_kluster = 523, n_init = 13\n",
    "    # хорошое разбиение при init = k_means++, num_kluster = 700, n_init = 13, но очень много \"одиночных\" дисциплин\n",
    "    # 23 кластер \"плохой\" при init = k_means++, num_kluster = 600, n_init = 13\n",
    "    # 79 кластер \"плохой\" при init = k_means++, num_kluster = 600, n_init = 15"
   ]
  },
  {
   "cell_type": "code",
   "execution_count": 360,
   "metadata": {
    "collapsed": true
   },
   "outputs": [],
   "source": [
    "import scipy as sp\n",
    "\n",
    "def disciplines_in_one_cluster(from_info, discipline):\n",
    "    discipline = review_to_words(discipline)\n",
    "    discipline_vec = vectorizer.transform([discipline])\n",
    "    discipline_label = km.predict(discipline_vec)[0]\n",
    "    return from_info[km.labels_ == discipline_label]"
   ]
  },
  {
   "cell_type": "code",
   "execution_count": 361,
   "metadata": {},
   "outputs": [
    {
     "name": "stdout",
     "output_type": "stream",
     "text": [
      "Test 1\n",
      "659    теория конечных графов\n",
      "Name: Name, dtype: object\n",
      "\n",
      "Test 2\n",
      "37                   компьютерные сети\n",
      "736    практикум эвм компьютерные сети\n",
      "840        компьютерные сети практикум\n",
      "Name: Name, dtype: object\n",
      "\n",
      "Test 3\n",
      "104    механика материалов\n",
      "Name: Name, dtype: object\n",
      "\n",
      "Test 4\n",
      "49                 алгоритмы графах\n",
      "491    алгоритмы оптимизации графах\n",
      "Name: Name, dtype: object\n"
     ]
    }
   ],
   "source": [
    "print(\"Test 1\")\n",
    "sim_dis_info = disciplines_in_one_cluster(d1['Name'], \"Теория графов\")\n",
    "print(sim_dis_info)\n",
    "print()\n",
    "\n",
    "print(\"Test 2\")\n",
    "sim_dis_info = disciplines_in_one_cluster(d1['Name'], \"Компьютерные сети\")\n",
    "print(sim_dis_info)\n",
    "print()\n",
    "\n",
    "print(\"Test 3\")\n",
    "sim_dis_info = disciplines_in_one_cluster(d1['Name'], \"Механика\")\n",
    "print(sim_dis_info)\n",
    "print()\n",
    "\n",
    "print(\"Test 4\")\n",
    "sim_dis_info = disciplines_in_one_cluster(d1['Name'], \"Алгоритмы на графах\")\n",
    "print(sim_dis_info)"
   ]
  },
  {
   "cell_type": "code",
   "execution_count": 362,
   "metadata": {},
   "outputs": [],
   "source": [
    "# рекомендации для студента id_student\n",
    "# информацию о студентах получаем из students_info\n",
    "# выбираем предметы, основываясь на схожести с n_best_students наиболее похожими студентами\n",
    "def make_recomendations(id_student, students_info, subjects_info, n_best_students = 3):\n",
    "    sim_stud = similar_students(id_student, students_info, n_best_students)  \n",
    "    stud_disciplines = [] \n",
    "    disciplines_info = read_subjects(\"subjects.csv\")\n",
    "    for d in students_info[id_student].keys():\n",
    "        if d not in stud_disciplines:\n",
    "            stud_disciplines.append(d)\n",
    "            #stud_disciplines.append(disciplines_info[d])    # дисциплины студента id_student\n",
    "            #sim_dis_info = disciplines_in_one_cluster(subjects_info, disciplines_info[d])\n",
    "            #for sim_dis in sim_dis_info:\n",
    "                #if sim_dis not in stud_disciplines:\n",
    "                    #stud_disciplines.append(sim_dis) # добавление дисциплин из одного кластера. Проблема : обрезанные/исправленные имена дисциплин\n",
    "    # далее добавление дисциплин \"похожих студентов\" + дисциплины из одних с ним кластеров\n",
    "    # далее убираем все дисциплины, принадлежащие одному кластеру, если есть у id_stud плохие оценки по предметам из этого кластера\n",
    "    # тут возникает новая проблема : а вдруг по предметам из одного кластера у студента разные оценки, например : матан1 - 60 баллов, матан2 - 90 баллов\n",
    "    return stud_disciplines"
   ]
  },
  {
   "cell_type": "code",
   "execution_count": 363,
   "metadata": {},
   "outputs": [
    {
     "name": "stdout",
     "output_type": "stream",
     "text": [
      "Most correlated with studentID: 11\n",
      "StudentID: 5  Coeff: 0.9729210307385605\n",
      "StudentID: 18  Coeff: 0.9683713392884907\n",
      "StudentID: 15  Coeff: 0.967386392071021\n"
     ]
    },
    {
     "data": {
      "text/plain": [
       "['11',\n",
       " '31',\n",
       " '49',\n",
       " '52',\n",
       " '163',\n",
       " '65',\n",
       " '424',\n",
       " '491',\n",
       " '569',\n",
       " '579',\n",
       " '668',\n",
       " '694',\n",
       " '700',\n",
       " '802',\n",
       " '1009',\n",
       " '1054',\n",
       " '1058',\n",
       " '1154',\n",
       " '1176',\n",
       " '1200',\n",
       " '1204',\n",
       " '1233',\n",
       " '1253',\n",
       " '1475',\n",
       " '1486',\n",
       " '1506',\n",
       " '1514',\n",
       " '1631',\n",
       " '1651',\n",
       " '1686',\n",
       " '1725',\n",
       " '1728',\n",
       " '1830',\n",
       " '1870',\n",
       " '1892',\n",
       " '1897',\n",
       " '1918',\n",
       " '1981',\n",
       " '2014',\n",
       " '2033',\n",
       " '2075',\n",
       " '2103',\n",
       " '2137',\n",
       " '2156',\n",
       " '2245',\n",
       " '2322',\n",
       " '2341',\n",
       " '2346',\n",
       " '2373']"
      ]
     },
     "execution_count": 363,
     "metadata": {},
     "output_type": "execute_result"
    }
   ],
   "source": [
    "students_rating = read_file(\"students_rating.csv\")\n",
    "r = make_recomendations('11', students_rating, d1['Name'])\n",
    "r"
   ]
  }
 ],
 "metadata": {
  "kernelspec": {
   "display_name": "Python 3",
   "language": "python",
   "name": "python3"
  },
  "language_info": {
   "codemirror_mode": {
    "name": "ipython",
    "version": 3
   },
   "file_extension": ".py",
   "mimetype": "text/x-python",
   "name": "python",
   "nbconvert_exporter": "python",
   "pygments_lexer": "ipython3",
   "version": "3.6.0"
  }
 },
 "nbformat": 4,
 "nbformat_minor": 2
}
