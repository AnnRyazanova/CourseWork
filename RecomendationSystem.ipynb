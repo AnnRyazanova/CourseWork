{
 "cells": [
  {
   "cell_type": "code",
   "execution_count": 171,
   "metadata": {},
   "outputs": [],
   "source": [
    "import pandas as pd\n",
    "from pandas import DataFrame, read_csv, Series\n",
    "import numpy as np\n",
    "import math\n",
    "import sklearn.datasets\n",
    "from sklearn.cluster import KMeans\n",
    "import nltk\n",
    "import re\n",
    "from sklearn import *\n",
    "from nltk.corpus import stopwords\n",
    "from sklearn.feature_extraction.text import CountVectorizer"
   ]
  },
  {
   "cell_type": "code",
   "execution_count": 172,
   "metadata": {
    "collapsed": true
   },
   "outputs": [],
   "source": [
    "# получение данных о студентах и их оценках по дисциплинам\n",
    "import csv\n",
    "def read_file(filename):\n",
    "    f = open(filename)\n",
    "    data = csv.reader(f)\n",
    "    mentions = dict()\n",
    "    for line in data:\n",
    "        student = line[0]\n",
    "        discipline = line[6]\n",
    "        type_d = line[7]\n",
    "        sem_rate = int(line[8])\n",
    "        bonus = int(line[9])\n",
    "        exam_rate = int(line[10])\n",
    "        rate = 0\n",
    "        if type_d == 'exam':\n",
    "            if (sem_rate >= 38) & (exam_rate >= 22):\n",
    "                rate = sem_rate + exam_rate + bonus\n",
    "        else: \n",
    "            if (sem_rate >= 60):\n",
    "                rate = sem_rate + bonus\n",
    "        if not student in mentions:\n",
    "            mentions[student] = dict()\n",
    "        mentions[student][discipline] = rate\n",
    "    f.close()\n",
    "    return mentions"
   ]
  },
  {
   "cell_type": "code",
   "execution_count": 173,
   "metadata": {
    "collapsed": true
   },
   "outputs": [],
   "source": [
    "# косинусная мера сходства: насколько два пользователя похожи друг на друга. \n",
    "def dist_cosine(vecA, vecB):\n",
    "    def dot_product(vecA, vecB):\n",
    "        d = 0.0\n",
    "        for dim in vecA:\n",
    "            if dim in vecB: \n",
    "                d += vecA[dim]*vecB[dim]\n",
    "        return d\n",
    "    a = dot_product(vecA,vecB)\n",
    "    b = math.sqrt(dot_product(vecA,vecA))\n",
    "    c = math.sqrt(dot_product(vecB,vecB))\n",
    "    if (a == 0) or (b == 0) or (c == 0):\n",
    "        return 0\n",
    "    else:\n",
    "        return  (a / (b * c))"
   ]
  },
  {
   "cell_type": "code",
   "execution_count": 174,
   "metadata": {
    "collapsed": true
   },
   "outputs": [],
   "source": [
    "def similar_students(studentID, studentsData, nBestStudents):\n",
    "    matches = [(u, dist_cosine(studentsData[studentID], studentsData[u])) for u in studentsData.keys() if u != studentID]\n",
    "    bestMatches = sorted(matches, key=lambda q:(q[1], q[0]), reverse=True)[:nBestStudents]\n",
    "    print(\"Most correlated with studentID: \" + str(studentID))\n",
    "    for line in bestMatches:\n",
    "        print(\"StudentID: \" + str(line[0]) + \"  Coeff: \" + str(line[1])) \n",
    "    return [(x[0], x[1]) for x in bestMatches]"
   ]
  },
  {
   "cell_type": "code",
   "execution_count": 175,
   "metadata": {},
   "outputs": [
    {
     "name": "stdout",
     "output_type": "stream",
     "text": [
      "Most correlated with studentID: 1\n",
      "StudentID: 9  Coeff: 0.7542152087381664\n",
      "StudentID: 6  Coeff: 0.7248624347806895\n",
      "StudentID: 7  Coeff: 0.7194365076928019\n",
      "StudentID: 5  Coeff: 0.6837763094049188\n",
      "StudentID: 4  Coeff: 0.5597650673256156\n",
      "StudentID: 2  Coeff: 0.22271363971105235\n",
      "StudentID: 3  Coeff: 0.06705017139158977\n",
      "StudentID: 8  Coeff: 0\n"
     ]
    }
   ],
   "source": [
    "students_test = read_file(\"raw_data32.csv\")\n",
    "#df = DataFrame(students_test)\n",
    "#df.columns.name = 'studentID'\n",
    "#df.index.name = 'discipline'    \n",
    "rec = similar_students('1', students_test, 10)\n"
   ]
  },
  {
   "cell_type": "code",
   "execution_count": 176,
   "metadata": {
    "collapsed": true
   },
   "outputs": [],
   "source": [
    "# Похожесть дисциплин\n",
    "def read_subjects(filename):\n",
    "    f = open(filename)\n",
    "    data = csv.reader(f)\n",
    "    subjects = dict()\n",
    "    for line in data:\n",
    "        ID = line[0]\n",
    "        discipline = line[1]\n",
    "        subjects[ID] = discipline\n",
    "    f.close()\n",
    "    return subjects"
   ]
  },
  {
   "cell_type": "code",
   "execution_count": 177,
   "metadata": {
    "collapsed": true
   },
   "outputs": [],
   "source": [
    "sd = read_subjects(\"subjects.csv\")\n",
    "\n",
    "# nltk.download() \n",
    "\n",
    "stopwords = set(stopwords.words(\"russian\"))\n",
    "#print(stopwords)\n"
   ]
  },
  {
   "cell_type": "code",
   "execution_count": 178,
   "metadata": {
    "collapsed": true
   },
   "outputs": [],
   "source": [
    "def review_to_words(review_text):\n",
    "    review_text = review_text.replace('ё','е')\n",
    "    review_text = review_text.replace('Ё','Е')\n",
    "    # 1. Удаляем все, кроме букв\n",
    "    letters_only = re.sub(\"[^а-яА-Я]\", \" \", review_text) \n",
    "    # 2. Делаем все буквы строчными и создаем массив слов\n",
    "    words = letters_only.lower().split()                             \n",
    "    # 3. Удаляем незначащие слова\n",
    "    meaningful_words = [w for w in words if not w in stopwords]\n",
    "    # 4. Формируем текст, объединяя слова через пробел\n",
    "    return(\" \".join(meaningful_words))"
   ]
  },
  {
   "cell_type": "code",
   "execution_count": 179,
   "metadata": {},
   "outputs": [
    {
     "data": {
      "text/html": [
       "<div>\n",
       "<table border=\"1\" class=\"dataframe\">\n",
       "  <thead>\n",
       "    <tr style=\"text-align: right;\">\n",
       "      <th></th>\n",
       "      <th>ID</th>\n",
       "      <th>Name</th>\n",
       "      <th>Abbr</th>\n",
       "    </tr>\n",
       "  </thead>\n",
       "  <tbody>\n",
       "    <tr>\n",
       "      <th>0</th>\n",
       "      <td>1</td>\n",
       "      <td>Математическая логика и теория множеств</td>\n",
       "      <td>Мат. логика и ТМ</td>\n",
       "    </tr>\n",
       "    <tr>\n",
       "      <th>1</th>\n",
       "      <td>2</td>\n",
       "      <td>Математический анализ</td>\n",
       "      <td>Мат. Анализ</td>\n",
       "    </tr>\n",
       "    <tr>\n",
       "      <th>2</th>\n",
       "      <td>3</td>\n",
       "      <td>Алгебра и геометрия</td>\n",
       "      <td>Алг. и геом.</td>\n",
       "    </tr>\n",
       "  </tbody>\n",
       "</table>\n",
       "</div>"
      ],
      "text/plain": [
       "   ID                                     Name              Abbr\n",
       "0   1  Математическая логика и теория множеств  Мат. логика и ТМ\n",
       "1   2                    Математический анализ       Мат. Анализ\n",
       "2   3                      Алгебра и геометрия      Алг. и геом."
      ]
     },
     "execution_count": 179,
     "metadata": {},
     "output_type": "execute_result"
    }
   ],
   "source": [
    "d0 = pd.read_csv(\"subjects2.csv\", encoding='utf-8')\n",
    "d0.head(3)"
   ]
  },
  {
   "cell_type": "code",
   "execution_count": 180,
   "metadata": {},
   "outputs": [
    {
     "data": {
      "text/html": [
       "<div>\n",
       "<table border=\"1\" class=\"dataframe\">\n",
       "  <thead>\n",
       "    <tr style=\"text-align: right;\">\n",
       "      <th></th>\n",
       "      <th>ID</th>\n",
       "      <th>Name</th>\n",
       "      <th>Abbr</th>\n",
       "    </tr>\n",
       "  </thead>\n",
       "  <tbody>\n",
       "    <tr>\n",
       "      <th>0</th>\n",
       "      <td>1</td>\n",
       "      <td>математическая логика теория множеств</td>\n",
       "      <td>Мат. логика и ТМ</td>\n",
       "    </tr>\n",
       "    <tr>\n",
       "      <th>1</th>\n",
       "      <td>2</td>\n",
       "      <td>математический анализ</td>\n",
       "      <td>Мат. Анализ</td>\n",
       "    </tr>\n",
       "    <tr>\n",
       "      <th>2</th>\n",
       "      <td>3</td>\n",
       "      <td>алгебра геометрия</td>\n",
       "      <td>Алг. и геом.</td>\n",
       "    </tr>\n",
       "  </tbody>\n",
       "</table>\n",
       "</div>"
      ],
      "text/plain": [
       "   ID                                   Name              Abbr\n",
       "0   1  математическая логика теория множеств  Мат. логика и ТМ\n",
       "1   2                  математический анализ       Мат. Анализ\n",
       "2   3                      алгебра геометрия      Алг. и геом."
      ]
     },
     "execution_count": 180,
     "metadata": {},
     "output_type": "execute_result"
    }
   ],
   "source": [
    "d1 = d0.copy()\n",
    "d1['Name'] = d1['Name'].apply(lambda s: review_to_words(s))\n",
    "d1.head(3)"
   ]
  },
  {
   "cell_type": "code",
   "execution_count": 181,
   "metadata": {},
   "outputs": [
    {
     "name": "stdout",
     "output_type": "stream",
     "text": [
      "Initialization complete\n",
      "Iteration  0, inertia 2778.000\n",
      "Iteration  1, inertia 2599.262\n",
      "Iteration  2, inertia 2532.801\n",
      "Iteration  3, inertia 2498.061\n",
      "Converged at iteration 3: center shift 0.000000e+00 within tolerance 2.882799e-07\n",
      "Initialization complete\n",
      "Iteration  0, inertia 2729.000\n",
      "Iteration  1, inertia 2524.008\n",
      "Iteration  2, inertia 2480.079\n",
      "Iteration  3, inertia 2448.783\n",
      "Iteration  4, inertia 2440.390\n",
      "Iteration  5, inertia 2440.121\n",
      "Converged at iteration 5: center shift 0.000000e+00 within tolerance 2.882799e-07\n",
      "Initialization complete\n",
      "Iteration  0, inertia 2735.000\n",
      "Iteration  1, inertia 2537.909\n",
      "Iteration  2, inertia 2503.702\n",
      "Iteration  3, inertia 2449.435\n",
      "Iteration  4, inertia 2445.625\n",
      "Iteration  5, inertia 2433.104\n",
      "Iteration  6, inertia 2428.943\n",
      "Iteration  7, inertia 2427.938\n",
      "Iteration  8, inertia 2427.568\n",
      "Converged at iteration 8: center shift 0.000000e+00 within tolerance 2.882799e-07\n",
      "Initialization complete\n",
      "Iteration  0, inertia 2771.000\n",
      "Iteration  1, inertia 2520.597\n",
      "Iteration  2, inertia 2457.592\n",
      "Iteration  3, inertia 2449.923\n",
      "Iteration  4, inertia 2447.484\n",
      "Iteration  5, inertia 2446.381\n",
      "Converged at iteration 5: center shift 0.000000e+00 within tolerance 2.882799e-07\n",
      "Initialization complete\n",
      "Iteration  0, inertia 2770.000\n",
      "Iteration  1, inertia 2654.021\n",
      "Iteration  2, inertia 2580.878\n",
      "Iteration  3, inertia 2524.574\n",
      "Iteration  4, inertia 2520.134\n",
      "Iteration  5, inertia 2515.410\n",
      "Iteration  6, inertia 2512.572\n",
      "Iteration  7, inertia 2510.894\n",
      "Converged at iteration 7: center shift 0.000000e+00 within tolerance 2.882799e-07\n",
      "Initialization complete\n",
      "Iteration  0, inertia 3328.000\n",
      "Iteration  1, inertia 2407.303\n",
      "Iteration  2, inertia 2387.295\n",
      "Iteration  3, inertia 2356.956\n",
      "Iteration  4, inertia 2326.912\n",
      "Iteration  5, inertia 2324.182\n",
      "Iteration  6, inertia 2323.901\n",
      "Converged at iteration 6: center shift 0.000000e+00 within tolerance 2.882799e-07\n",
      "Initialization complete\n",
      "Iteration  0, inertia 2749.000\n",
      "Iteration  1, inertia 2542.790\n",
      "Iteration  2, inertia 2499.178\n",
      "Iteration  3, inertia 2485.493\n",
      "Iteration  4, inertia 2477.923\n",
      "Iteration  5, inertia 2477.147\n",
      "Converged at iteration 5: center shift 0.000000e+00 within tolerance 2.882799e-07\n",
      "Initialization complete\n",
      "Iteration  0, inertia 2782.000\n",
      "Iteration  1, inertia 2631.278\n",
      "Iteration  2, inertia 2559.571\n",
      "Iteration  3, inertia 2529.603\n",
      "Iteration  4, inertia 2525.940\n",
      "Iteration  5, inertia 2525.119\n",
      "Converged at iteration 5: center shift 0.000000e+00 within tolerance 2.882799e-07\n",
      "Initialization complete\n",
      "Iteration  0, inertia 3329.000\n",
      "Iteration  1, inertia 2416.644\n",
      "Iteration  2, inertia 2370.874\n",
      "Iteration  3, inertia 2356.343\n",
      "Iteration  4, inertia 2354.791\n",
      "Iteration  5, inertia 2354.455\n",
      "Converged at iteration 5: center shift 0.000000e+00 within tolerance 2.882799e-07\n",
      "Initialization complete\n",
      "Iteration  0, inertia 2741.000\n",
      "Iteration  1, inertia 2612.046\n",
      "Iteration  2, inertia 2524.523\n",
      "Iteration  3, inertia 2496.871\n",
      "Iteration  4, inertia 2489.484\n",
      "Iteration  5, inertia 2486.866\n",
      "Converged at iteration 5: center shift 0.000000e+00 within tolerance 2.882799e-07\n"
     ]
    },
    {
     "data": {
      "text/plain": [
       "KMeans(algorithm='auto', copy_x=True, init='random', max_iter=300,\n",
       "    n_clusters=50, n_init=10, n_jobs=1, precompute_distances='auto',\n",
       "    random_state=3, tol=0.0001, verbose=1)"
      ]
     },
     "execution_count": 181,
     "metadata": {},
     "output_type": "execute_result"
    }
   ],
   "source": [
    "vectorizer = CountVectorizer(analyzer = \"word\", tokenizer = None, preprocessor = None, stop_words = None, max_features = 50000, binary = False) \n",
    "vectorized = vectorizer.fit_transform(d1['Name'])\n",
    "#print(vectorized)\n",
    "\n",
    "num_samples, num_features = vectorized.shape\n",
    "# print((num_samples, num_features)) # 918 дисциплин, 1123-мерный вектор признаков\n",
    "\n",
    "vocabulary = vectorizer.get_feature_names()\n",
    "#print(vocabulary[20])\n",
    "\n",
    "num_clusters = 50\n",
    "km = KMeans(n_clusters=num_clusters, init='random', n_init=10, verbose=1, random_state=3)\n",
    "km.fit(vectorized)\n"
   ]
  },
  {
   "cell_type": "code",
   "execution_count": 182,
   "metadata": {},
   "outputs": [
    {
     "data": {
      "text/plain": [
       "array([[ 0.        ,  0.12244898,  0.        , ...,  0.        ,\n",
       "         0.        ,  0.08163265],\n",
       "       [ 0.        ,  0.        ,  0.        , ...,  0.        ,\n",
       "         0.        ,  0.        ],\n",
       "       [ 0.        ,  0.        ,  0.        , ...,  0.        ,\n",
       "         0.        ,  0.        ],\n",
       "       ..., \n",
       "       [ 0.        ,  0.        ,  0.        , ...,  0.        ,\n",
       "         0.        ,  0.        ],\n",
       "       [ 0.        ,  0.        ,  0.        , ...,  0.        ,\n",
       "         0.        ,  0.        ],\n",
       "       [ 0.        ,  0.        ,  0.        , ...,  0.        ,\n",
       "         0.        ,  0.        ]])"
      ]
     },
     "execution_count": 182,
     "metadata": {},
     "output_type": "execute_result"
    }
   ],
   "source": [
    "km.predict(vectorized)\n",
    "km.cluster_centers_"
   ]
  },
  {
   "cell_type": "code",
   "execution_count": 183,
   "metadata": {},
   "outputs": [
    {
     "name": "stdout",
     "output_type": "stream",
     "text": [
      "[ 0  6  6 20 16  6  6  6  5  0  6  5  6  6  6  5  6  6  6  6  6  6  6  6 38\n",
      "  6  6  6  6  6 25  0 10  8  6  6  6  6  6  6  6  6  6  6  6 25  6 20  6  6\n",
      "  6  6  6  0 16  6  6 29  6 28  6  6  6 46  6  6  6 24  6 15 25  0  6 25  6\n",
      "  6  6 16 28  6 16 25  6  6 16 15 21  6  6 25 24  6  6  6  6 21 25  6  0  6\n",
      " 15  6 25  6  6  0  6  6 15  0 25 15  6  6 16  6  6  6  5 20  6  6  6  6  3\n",
      "  4  4 16 16 19 19 22  6  0  6  6  6  6  6 31  6  4  6  6  6  6 15  6 38  6\n",
      "  6  6  6 15  6  6  6  5  6  6  6  6  6  6  6  6  8  0  0  3  6  4  6 20 16\n",
      " 16  0 17  6  5  6 17 17 17 17 17  6 17 17  6  6 17 17  6  6  6  6  6  6  6\n",
      "  6 17  6 27  6 17  6  6 17 16  7  6  6  6  6  6  6 27  6 17  6 27  6  6  6\n",
      "  0 10 10  6 25  6  6 34  6 24 27  6  6  6  4 16 25 19  0 25 19  6  6  6 25\n",
      " 24 28 28 28  6  6  6 28 28  6 25 19  6  6 24  6  0  6  6  6 44 44 28 19 25\n",
      " 25 28  6  6  6  6  6 31  3 19 24  6  6  6 46 18  6  6 19 46  6  6  4  6 25\n",
      "  6 12  0  6  6 38 46  6 25 19  6  2 19 43  0 20  6 15 15 28  6  6  6  6  6\n",
      "  6  6  6  6  6  6  0 28 19  6  6 15 15  6  6  6  6  6  6  6 46 28 46  0  6\n",
      "  6  6  6  5 17 26 17 17  6 27 17  6  6  6  6 27  6  6 45 11  6  6 17 17 23\n",
      "  5  6  6  6  6  6  6  6  6  6  6  6  4  6  6 15  6  6  6  0  0  6 20 28  6\n",
      "  6 25 25  6 15  0  0 46 15  0  6  0  8  6  6  6 25 39  6  6  6  6  0  6  6\n",
      "  6  6 20  6  6 15  6  6  0  6 25 38  6 29  6 15  6  6  6  6 40 40  6  6  6\n",
      "  6  6  6 25 19  0  6  6  6  6  6 20  3 19  6 19  6  4 28  6  6  6 25  6  6\n",
      "  6  6  6  4  6 25  6 18 18  6 28  6  6  6  6  6  6 18  6  0 20  6  6  6  6\n",
      "  6  6  6 31  6 21  6 37 15 15 16  6  6 15  6  7  6 48  6  6  6  6 13  6 16\n",
      " 16  2  6  6  1  1  4 31 31 20  6 30  6  6  6  6  6  5  6  6  6  1  6  2  2\n",
      "  2  2  2  6  6 32 20 14 14 14  6 49  6 27  6 31  6  2  6  1  6  6 28 19 13\n",
      "  5  5  5 28  4  4  6 16 16  6  6  6  6  6  6  6  6  6  1  1  1  1  1  1  1\n",
      "  1  6 31 31  6 25 25  2  6  6  6  6  1  6  6  6  1 25 21  6  6  6  6 42  2\n",
      "  6  6  6  0 30  0  0  0  1  6  6  6  2  2  6  6  9  6 14 14 14  6  1  6 38\n",
      "  6  6  6  0 19 15 25  6 12  0 46  0  6  6 33  6 47  7  6  6  6  6  6 37 37\n",
      " 37 37 37  6  6  6  6  6  6  6  6 25  0  0  5 16 28  6  6  6  0  6 16 28  6\n",
      " 46  0  6  6  6 21  4 46  6 46  6  6 37  6  6 20 37  6  6  6  6 20  0  6  6\n",
      "  6  6  6  6  6 27 27  6  6 16 16  6 16  6  6 27 27 27  6  6  0 33 27 17  6\n",
      "  6  6 31  0  6  6 15  6  6  6 19 40  6 27  3  6 11 27 30  6  6  6 13  6  0\n",
      " 20  6 28  6 19 16  6  6 44  7 38 19  3  6  6  6  6  6  6  6 17  6  6  6 17\n",
      "  6  6 27 27 27  6  7 41  6  7  6  6  6  6  6 17 17  6  6  0 36  6  6  6 20\n",
      "  6  0 38  5  6  6  6  6 25  6  6  6  6  6 25  6 25  6  6  6 12 15  6  6 15\n",
      "  6  6  6  6  6  6  6  6  6  6  6  0  4  0 46  6  6  6  6 24 10 10 10  6 19\n",
      "  4 46  6  6  6 24  6 19  6 25  6  6  4 17  6  4  6 27  6 28 25 44  6  0 19\n",
      " 40  4  4  6 27  6 17 27 35 27  6  6  7  7  7  7  6  6]\n"
     ]
    }
   ],
   "source": [
    "#print(km.cluster_centers_)\n",
    "print(km.labels_)"
   ]
  },
  {
   "cell_type": "code",
   "execution_count": 187,
   "metadata": {},
   "outputs": [
    {
     "data": {
      "text/plain": [
       "63                          дополнительные главы алгебры\n",
       "289           дополнительные главы исследования операций\n",
       "294    научно исследовательский семинар дополнительны...\n",
       "306         дополнительные главы функционального анализа\n",
       "345                    дополнительные главы теории чисел\n",
       "347      дополнительные главы дифференциальных уравнений\n",
       "407           дополнительные главы математической физики\n",
       "660      дополнительные главы теории экстремальных задач\n",
       "700                         дополнительные главы анализа\n",
       "707    дополнительные главы алгебры дискретной матема...\n",
       "709                       дополнительные главы геометрии\n",
       "864    дополнительные главы спектральной теории опера...\n",
       "876    дополнительные главы спектральной теории опера...\n",
       "Name: Name, dtype: object"
      ]
     },
     "execution_count": 187,
     "metadata": {},
     "output_type": "execute_result"
    }
   ],
   "source": [
    "d1['Name'][km.labels_ == 46]"
   ]
  }
 ],
 "metadata": {
  "kernelspec": {
   "display_name": "Python 3",
   "language": "python",
   "name": "python3"
  },
  "language_info": {
   "codemirror_mode": {
    "name": "ipython",
    "version": 3
   },
   "file_extension": ".py",
   "mimetype": "text/x-python",
   "name": "python",
   "nbconvert_exporter": "python",
   "pygments_lexer": "ipython3",
   "version": "3.6.0"
  }
 },
 "nbformat": 4,
 "nbformat_minor": 2
}
