{
 "cells": [
  {
   "cell_type": "code",
   "execution_count": 711,
   "metadata": {
    "collapsed": true
   },
   "outputs": [],
   "source": [
    "import pandas as pd\n",
    "from pandas import DataFrame, read_csv, Series\n",
    "import numpy as np\n",
    "import math\n",
    "import sklearn.datasets\n",
    "from sklearn.cluster import KMeans\n",
    "import nltk\n",
    "import re\n",
    "from nltk.corpus import stopwords\n",
    "from sklearn.feature_extraction.text import CountVectorizer"
   ]
  },
  {
   "cell_type": "code",
   "execution_count": 712,
   "metadata": {
    "collapsed": true
   },
   "outputs": [],
   "source": [
    "# получение данных о студентах и их оценках по дисциплинам\n",
    "import csv\n",
    "def read_file(filename):\n",
    "    f = open(filename)\n",
    "    data = csv.reader(f)\n",
    "    mentions = dict()\n",
    "    for line in data:\n",
    "        student = line[0]\n",
    "        discipline = line[6]\n",
    "        type_d = line[7]\n",
    "        sem_rate = int(line[8])\n",
    "        bonus = int(line[9])\n",
    "        exam_rate = int(line[10])\n",
    "        rate = 0\n",
    "        if type_d == 'exam':\n",
    "            if (sem_rate >= 38) & (exam_rate >= 22):\n",
    "                rate = sem_rate + exam_rate + bonus\n",
    "        else: \n",
    "            if (sem_rate >= 60):\n",
    "                rate = sem_rate + bonus\n",
    "        if not student in mentions:\n",
    "            mentions[student] = dict()\n",
    "        mentions[student][discipline] = rate\n",
    "    f.close()\n",
    "    return mentions"
   ]
  },
  {
   "cell_type": "code",
   "execution_count": 713,
   "metadata": {
    "collapsed": true
   },
   "outputs": [],
   "source": [
    "# косинусная мера сходства: насколько два пользователя похожи друг на друга. \n",
    "def dist_cosine(vecA, vecB):\n",
    "    def dot_product(vecA, vecB):\n",
    "        d = 0.0\n",
    "        for dim in vecA:\n",
    "            if dim in vecB: \n",
    "                d += vecA[dim]*vecB[dim]\n",
    "        return d\n",
    "    a = dot_product(vecA,vecB)\n",
    "    b = math.sqrt(dot_product(vecA,vecA))\n",
    "    c = math.sqrt(dot_product(vecB,vecB))\n",
    "    if (a == 0) or (b == 0) or (c == 0):\n",
    "        return 0\n",
    "    else:\n",
    "        return  (a / (b * c))"
   ]
  },
  {
   "cell_type": "code",
   "execution_count": 714,
   "metadata": {
    "collapsed": true
   },
   "outputs": [],
   "source": [
    "def similar_students(studentID, studentsData, nBestStudents = 3):\n",
    "    matches = [(u, dist_cosine(studentsData[studentID], studentsData[u])) for u in studentsData.keys() if u != studentID]\n",
    "    bestMatches = sorted(matches, key=lambda q:(q[1], q[0]), reverse=True)[:nBestStudents]\n",
    "    print(\"Most correlated with studentID: \" + str(studentID))\n",
    "    for line in bestMatches:\n",
    "        print(\"StudentID: \" + str(line[0]) + \"  Coeff: \" + str(line[1])) \n",
    "    return [(x[0], x[1]) for x in bestMatches]"
   ]
  },
  {
   "cell_type": "code",
   "execution_count": 715,
   "metadata": {},
   "outputs": [
    {
     "name": "stdout",
     "output_type": "stream",
     "text": [
      "Most correlated with studentID: 1\n",
      "StudentID: 9  Coeff: 0.7542152087381664\n",
      "StudentID: 6  Coeff: 0.7248624347806895\n",
      "StudentID: 7  Coeff: 0.7194365076928019\n",
      "StudentID: 5  Coeff: 0.6837763094049188\n",
      "StudentID: 4  Coeff: 0.5597650673256156\n",
      "StudentID: 2  Coeff: 0.22271363971105235\n",
      "StudentID: 3  Coeff: 0.06705017139158977\n",
      "StudentID: 8  Coeff: 0\n"
     ]
    }
   ],
   "source": [
    "students_test = read_file(\"raw_data32.csv\")\n",
    "#df = DataFrame(students_test)\n",
    "#df.columns.name = 'studentID'\n",
    "#df.index.name = 'discipline'    \n",
    "rec = similar_students('1', students_test, 10)\n"
   ]
  },
  {
   "cell_type": "code",
   "execution_count": 716,
   "metadata": {
    "collapsed": true
   },
   "outputs": [],
   "source": [
    "# Похожесть дисциплин\n",
    "def read_subjects(filename):\n",
    "    f = open(filename)\n",
    "    data = csv.reader(f)\n",
    "    subjects = dict()\n",
    "    for line in data:\n",
    "        ID = line[0]\n",
    "        discipline = line[1]\n",
    "        subjects[ID] = discipline\n",
    "    f.close()\n",
    "    return subjects"
   ]
  },
  {
   "cell_type": "code",
   "execution_count": 717,
   "metadata": {},
   "outputs": [],
   "source": [
    "#sd = read_subjects(\"disciplines2.csv\")\n",
    "\n",
    "#nltk.download() \n",
    "\n",
    "stopwords = set(stopwords.words(\"russian\"))\n",
    "#print(stopwords)\n"
   ]
  },
  {
   "cell_type": "code",
   "execution_count": 718,
   "metadata": {
    "collapsed": true
   },
   "outputs": [],
   "source": [
    "def review_to_words(review_text):\n",
    "    review_text = review_text.replace('ё','е')\n",
    "    review_text = review_text.replace('Ё','Е')\n",
    "    # 0. Перевод английских наименований дисциплин\n",
    "    # TO DO\n",
    "    # 1. Удаляем все, кроме букв\n",
    "    letters_only = re.sub(\"[^а-яА-Яa-zA-Z]\", \" \", review_text) \n",
    "    # 2. Делаем все буквы строчными и создаем массив слов\n",
    "    words = letters_only.lower().split()                             \n",
    "    # 3. Удаляем незначащие слова\n",
    "    meaningful_words = [w for w in words if not w in stopwords]\n",
    "    # 4. Формируем текст, объединяя слова через пробел\n",
    "    return(\" \".join(meaningful_words))"
   ]
  },
  {
   "cell_type": "code",
   "execution_count": 719,
   "metadata": {},
   "outputs": [
    {
     "data": {
      "text/html": [
       "<div>\n",
       "<table border=\"1\" class=\"dataframe\">\n",
       "  <thead>\n",
       "    <tr style=\"text-align: right;\">\n",
       "      <th></th>\n",
       "      <th>ID</th>\n",
       "      <th>Name</th>\n",
       "    </tr>\n",
       "  </thead>\n",
       "  <tbody>\n",
       "    <tr>\n",
       "      <th>0</th>\n",
       "      <td>1</td>\n",
       "      <td>Алгоритмы на графах</td>\n",
       "    </tr>\n",
       "    <tr>\n",
       "      <th>1</th>\n",
       "      <td>2</td>\n",
       "      <td>Функциональное программирование</td>\n",
       "    </tr>\n",
       "    <tr>\n",
       "      <th>2</th>\n",
       "      <td>3</td>\n",
       "      <td>Функциональное программирование</td>\n",
       "    </tr>\n",
       "  </tbody>\n",
       "</table>\n",
       "</div>"
      ],
      "text/plain": [
       "   ID                             Name\n",
       "0   1              Алгоритмы на графах\n",
       "1   2  Функциональное программирование\n",
       "2   3  Функциональное программирование"
      ]
     },
     "execution_count": 719,
     "metadata": {},
     "output_type": "execute_result"
    }
   ],
   "source": [
    "d0 = pd.read_csv(\"disciplines.csv\", sep=',', encoding='utf-8')\n",
    "d0.head(3)"
   ]
  },
  {
   "cell_type": "code",
   "execution_count": 738,
   "metadata": {},
   "outputs": [
    {
     "data": {
      "text/plain": [
       "(28,)"
      ]
     },
     "execution_count": 738,
     "metadata": {},
     "output_type": "execute_result"
    }
   ],
   "source": [
    "d1 = d0.copy()\n",
    "d1['Name'] = d1['Name'].apply(lambda s: review_to_words(s))\n",
    "d = d1.sort_values('Name')\n",
    "d = d.Name.unique()\n",
    "d\n",
    "# кластеризовать уникальные имена, потом смотреть, какому кластеру принадлежит id дисциплины, а затем посмотреть схожие дисциплины"
   ]
  },
  {
   "cell_type": "code",
   "execution_count": 721,
   "metadata": {
    "collapsed": true
   },
   "outputs": [],
   "source": [
    "#vectorizer = CountVectorizer(analyzer = \"word\", tokenizer = None, preprocessor = None, stop_words = None, max_features = 50000, binary = False) \n",
    "#vectorized = vectorizer.fit_transform(d1['Name'])\n",
    "##print(vectorized)\n",
    "\n",
    "#num_samples, num_features = vectorized.shape\n",
    "## print((num_samples, num_features)) # 918 дисциплин, 1123-мерный вектор признаков\n",
    "\n",
    "#vocabulary = vectorizer.get_feature_names()\n",
    "##print(vocabulary[20])\n",
    "\n",
    "#num_clusters = 50\n",
    "#km = KMeans(n_clusters=num_clusters, init='random', n_init=10, verbose=1, random_state=3)\n",
    "#km.fit(vectorized)\n"
   ]
  },
  {
   "cell_type": "code",
   "execution_count": 722,
   "metadata": {
    "collapsed": true
   },
   "outputs": [],
   "source": [
    "#km.predict(vectorized)\n",
    "#km.cluster_centers_"
   ]
  },
  {
   "cell_type": "code",
   "execution_count": 723,
   "metadata": {
    "collapsed": true
   },
   "outputs": [],
   "source": [
    "##print(km.cluster_centers_)\n",
    "#print(km.labels_)"
   ]
  },
  {
   "cell_type": "code",
   "execution_count": 724,
   "metadata": {
    "collapsed": true
   },
   "outputs": [],
   "source": [
    "#d1['Name'][km.labels_ == 46]"
   ]
  },
  {
   "cell_type": "code",
   "execution_count": 725,
   "metadata": {
    "collapsed": true
   },
   "outputs": [],
   "source": [
    "# стемминг\n",
    "from nltk.stem.snowball import SnowballStemmer\n",
    "# print(SnowballStemmer(\"russian\").stem(\"гениально\"))  # проверка работы стемминга"
   ]
  },
  {
   "cell_type": "code",
   "execution_count": 726,
   "metadata": {},
   "outputs": [],
   "source": [
    "rus_stemmer = SnowballStemmer('russian')\n",
    "\n",
    "class StemmedCountVectorizer(CountVectorizer):\n",
    "    def build_analyzer(self):\n",
    "        analyzer = super(StemmedCountVectorizer, self).build_analyzer()\n",
    "        return lambda doc: (rus_stemmer.stem(w) for w in analyzer(doc))\n",
    "    \n",
    "vectorizer = StemmedCountVectorizer(min_df=1, analyzer = \"word\", tokenizer = None, preprocessor = None, stop_words = None, max_features = None, binary = False)\n",
    "#vectorized = vectorizer.fit_transform(d1['Name'])\n",
    "vectorized = vectorizer.fit_transform(d)"
   ]
  },
  {
   "cell_type": "code",
   "execution_count": 727,
   "metadata": {},
   "outputs": [
    {
     "name": "stdout",
     "output_type": "stream",
     "text": [
      "Initialization complete\n",
      "Iteration  0, inertia 887.000\n",
      "Iteration  1, inertia 547.805\n",
      "Iteration  2, inertia 543.602\n",
      "Converged at iteration 2: center shift 0.000000e+00 within tolerance 4.984511e-07\n",
      "Initialization complete\n",
      "Iteration  0, inertia 899.000\n",
      "Iteration  1, inertia 551.367\n",
      "Iteration  2, inertia 537.107\n",
      "Iteration  3, inertia 535.506\n",
      "Iteration  4, inertia 534.850\n",
      "Converged at iteration 4: center shift 0.000000e+00 within tolerance 4.984511e-07\n",
      "Initialization complete\n",
      "Iteration  0, inertia 866.000\n",
      "Iteration  1, inertia 545.078\n",
      "Iteration  2, inertia 531.873\n",
      "Iteration  3, inertia 531.298\n",
      "Converged at iteration 3: center shift 0.000000e+00 within tolerance 4.984511e-07\n",
      "Initialization complete\n",
      "Iteration  0, inertia 896.000\n",
      "Iteration  1, inertia 549.863\n",
      "Iteration  2, inertia 537.188\n",
      "Iteration  3, inertia 537.066\n",
      "Converged at iteration 3: center shift 0.000000e+00 within tolerance 4.984511e-07\n",
      "Initialization complete\n",
      "Iteration  0, inertia 914.000\n",
      "Iteration  1, inertia 545.945\n",
      "Iteration  2, inertia 533.156\n",
      "Iteration  3, inertia 532.119\n",
      "Converged at iteration 3: center shift 0.000000e+00 within tolerance 4.984511e-07\n",
      "Initialization complete\n",
      "Iteration  0, inertia 880.000\n",
      "Iteration  1, inertia 531.833\n",
      "Iteration  2, inertia 524.372\n",
      "Iteration  3, inertia 523.964\n",
      "Converged at iteration 3: center shift 0.000000e+00 within tolerance 4.984511e-07\n",
      "Initialization complete\n",
      "Iteration  0, inertia 901.000\n",
      "Iteration  1, inertia 554.111\n",
      "Iteration  2, inertia 546.169\n",
      "Converged at iteration 2: center shift 0.000000e+00 within tolerance 4.984511e-07\n",
      "Initialization complete\n",
      "Iteration  0, inertia 886.000\n",
      "Iteration  1, inertia 547.453\n",
      "Iteration  2, inertia 539.911\n",
      "Converged at iteration 2: center shift 0.000000e+00 within tolerance 4.984511e-07\n",
      "Initialization complete\n",
      "Iteration  0, inertia 884.000\n",
      "Iteration  1, inertia 561.880\n",
      "Iteration  2, inertia 549.772\n",
      "Iteration  3, inertia 547.979\n",
      "Iteration  4, inertia 546.164\n",
      "Converged at iteration 4: center shift 0.000000e+00 within tolerance 4.984511e-07\n",
      "Initialization complete\n",
      "Iteration  0, inertia 908.000\n",
      "Iteration  1, inertia 551.478\n",
      "Iteration  2, inertia 535.950\n",
      "Iteration  3, inertia 532.778\n",
      "Converged at iteration 3: center shift 0.000000e+00 within tolerance 4.984511e-07\n",
      "Initialization complete\n",
      "Iteration  0, inertia 917.000\n",
      "Iteration  1, inertia 552.146\n",
      "Iteration  2, inertia 543.145\n",
      "Converged at iteration 2: center shift 0.000000e+00 within tolerance 4.984511e-07\n",
      "Initialization complete\n",
      "Iteration  0, inertia 842.000\n",
      "Iteration  1, inertia 511.002\n",
      "Iteration  2, inertia 503.908\n",
      "Iteration  3, inertia 502.964\n",
      "Iteration  4, inertia 500.853\n",
      "Iteration  5, inertia 498.469\n",
      "Converged at iteration 5: center shift 0.000000e+00 within tolerance 4.984511e-07\n",
      "Initialization complete\n",
      "Iteration  0, inertia 894.000\n",
      "Iteration  1, inertia 561.591\n",
      "Iteration  2, inertia 540.073\n",
      "Iteration  3, inertia 537.464\n",
      "Converged at iteration 3: center shift 0.000000e+00 within tolerance 4.984511e-07\n"
     ]
    },
    {
     "data": {
      "text/plain": [
       "KMeans(algorithm='auto', copy_x=True, init='random', max_iter=300,\n",
       "    n_clusters=350, n_init=13, n_jobs=1, precompute_distances='auto',\n",
       "    random_state=3, tol=0.0001, verbose=1)"
      ]
     },
     "execution_count": 727,
     "metadata": {},
     "output_type": "execute_result"
    }
   ],
   "source": [
    "num_samples, num_features = vectorized.shape\n",
    "vocabulary = vectorizer.get_feature_names()\n",
    "\n",
    "num_clusters = 350\n",
    "km = KMeans(n_clusters=num_clusters, init='random', n_init=13, verbose=1, random_state=3)\n",
    "km.fit(vectorized)"
   ]
  },
  {
   "cell_type": "code",
   "execution_count": 728,
   "metadata": {},
   "outputs": [
    {
     "data": {
      "text/plain": [
       "array([[ 0.,  0.,  0., ...,  0.,  0.,  0.],\n",
       "       [ 0.,  0.,  0., ...,  0.,  0.,  0.],\n",
       "       [ 0.,  0.,  0., ...,  0.,  0.,  0.],\n",
       "       ..., \n",
       "       [ 0.,  1.,  0., ...,  0.,  0.,  0.],\n",
       "       [ 0.,  0.,  0., ...,  0.,  0.,  0.],\n",
       "       [ 0.,  0.,  0., ...,  0.,  0.,  0.]])"
      ]
     },
     "execution_count": 728,
     "metadata": {},
     "output_type": "execute_result"
    }
   ],
   "source": [
    "km.predict(vectorized)\n",
    "km.cluster_centers_"
   ]
  },
  {
   "cell_type": "code",
   "execution_count": 729,
   "metadata": {},
   "outputs": [
    {
     "name": "stdout",
     "output_type": "stream",
     "text": [
      "270 270 238 303 215 43 1 69 60 70 64 239 242 304 326 3 3 91 111 123 347 3 3 3 136 136 81 169 84 186 259 27 147 219 58 342 58 297 273 150 181 58 58 58 335 8 124 211 23 211 210 295 137 155 155 166 14 315 338 16 75 25 23 254 161 208 227 59 25 25 25 25 25 154 154 13 84 211 3 349 86 32 77 192 293 121 285 174 77 256 311 311 190 343 9 249 3 56 232 156 246 31 338 183 345 124 345 50 266 266 138 164 3 23 23 261 3 189 59 117 59 139 10 289 104 318 3 3 142 124 263 319 130 260 23 23 119 10 250 78 59 110 110 110 110 233 325 110 110 110 152 96 41 27 149 76 278 139 72 99 141 153 112 112 60 112 226 226 292 3 294 10 324 35 45 196 196 73 180 180 203 196 0 203 103 129 167 167 44 53 22 307 45 45 53 53 290 116 116 45 175 22 53 53 53 53 137 3 16 268 268 268 124 206 48 268 268 268 268 268 99 39 253 27 27 184 245 73 73 40 207 17 127 27 180 340 257 3 149 284 3 278 322 198 3 218 183 57 154 268 40 333 126 287 224 57 224 57 87 265 302 12 126 308 211 3 122 180 3 124 43 263 151 43 187 182 134 124 160 330 223 160 6 230 129 216 173 216 316 317 248 262 278 248 202 114 82 62 176 62 209 199 85 85 274 298 299 252 105 118 118 3 23 217 191 191 143 344 137 272 165 165 312 167 108 271 120 168 168 301 31 3 203 63 72 313 97 228 244 201 201 268 243 213 311 201 243 228 311 324 35 101 27 3 178 157 5 5 5 205 18 61 124 3 266 43 222 240 55 55 305 46 124 339 95 172 172 3 101 66 269 269 246 124 2 77 3 324 269 3 23 86 59 86 26 32 185 129 53 346 230 31 11 337 26 69 37 124 231 3 3 227 285 227 241 193 93 309 45 61 286 61 132 59 3 55 3 341 288 89 145 221 3 20 310 188 188 188 188 188 29 27 227 255 336 275 187 179 179 74 47 268 49 334 297 135 159 159 122 122 140 68 264 115 115 70 3 258 258 203 3 90 73 311 7 15 66 194 281 225 59 124 320 71 291 291 80 98 98 200 200 80 100 100 98 227 214 180 152 280 248 7 229 4 229 113 282 3 65 277 294 250 27 331 29 207 169 144 169 272 92 92 67 67 67 67 16 131 28 258 321 327 66 42 206 36 3 16 3 220 94 148 3 56 3 3 301 309 301 301 185 185 283 12 128 60 60 133 79 37 37 27 17 60 60 198 60 60 21 177 37 38 60 17 17 251 83 83 60 212 300 60 162 60 348 107 94 276 169 169 343 51 170 306 197 27 254 88 278 323 54 335 236 163 3 3 3 3 24 3 187 237 235 235 328 34 106 278 30 3 60 3 3 195 171 33 175 52 102 267 109 158 152 152 332 234 234 85 85 280 131 131 131 271 314 3 203 60 279 125 125 125 125 109 329 296 124 19 103 247 3 204 146 70 "
     ]
    }
   ],
   "source": [
    "for label in km.labels_: \n",
    "    print(label, end = \" \")"
   ]
  },
  {
   "cell_type": "code",
   "execution_count": 730,
   "metadata": {},
   "outputs": [
    {
     "data": {
      "text/plain": [
       "array(['основы теории вероятностей',\n",
       "       'теория вероятностей математическая статистика',\n",
       "       'теория вероятности математическая статистика',\n",
       "       'теория методика математического образования'], dtype=object)"
      ]
     },
     "execution_count": 730,
     "metadata": {},
     "output_type": "execute_result"
    }
   ],
   "source": [
    "#d1['Name'][km.labels_ == 0]\n",
    "d[km.labels_ == 37]\n",
    "    # к прошлым данным:\n",
    "    # 25 кластер \"очень плохой\" при init = random, num_kluster = 500, n_init = 13, неправильно соотносит предмет \"Теория графов\"\n",
    "    # 41 кластер \"плохой\" при init = k_means++, num_kluster = 500, n_init = 13\n",
    "    # 62 кластер \"плохой\" при init = k_means++, num_kluster = 523, n_init = 13\n",
    "    # хорошое разбиение при init = k_means++, num_kluster = 700, n_init = 13, но очень много \"одиночных\" дисциплин\n",
    "    # 23 кластер \"плохой\" при init = k_means++, num_kluster = 600, n_init = 13\n",
    "    # 79 кластер \"плохой\" при init = k_means++, num_kluster = 600, n_init = 15\n",
    "#d1['Name'][315]\n",
    "#d1['Name'][km.labels_ == 56].keys() #id дисципли"
   ]
  },
  {
   "cell_type": "code",
   "execution_count": 731,
   "metadata": {
    "collapsed": true
   },
   "outputs": [],
   "source": [
    "import scipy as sp\n",
    "\n",
    "def disciplines_in_one_cluster(from_info, discipline):\n",
    "    discipline = review_to_words(discipline)\n",
    "    discipline_vec = vectorizer.transform([discipline])\n",
    "    discipline_label = km.predict(discipline_vec)\n",
    "    #return discipline_label #вернуть номер кластера, в котором располагаются схожие дисциплины\n",
    "    return from_info[km.labels_ == discipline_label]"
   ]
  },
  {
   "cell_type": "code",
   "execution_count": 732,
   "metadata": {},
   "outputs": [
    {
     "name": "stdout",
     "output_type": "stream",
     "text": [
      "Test 1\n",
      "['теория конечных графов']\n",
      "\n",
      "Test 2\n",
      "['защита сетях' 'компьютерные сети']\n",
      "\n",
      "Test 3\n",
      "['механика разрушений' 'теоретическая механика'\n",
      " 'теоретическая прикладная механика' 'теоретическая физика']\n",
      "\n",
      "Test 4\n",
      "['алгоритмы графах' 'алгоритмы оптимизации графах']\n"
     ]
    }
   ],
   "source": [
    "print(\"Test 1\")\n",
    "#sim_dis_info = disciplines_in_one_cluster(d1['Name'], \"Теория графов\")\n",
    "sim_dis_info = disciplines_in_one_cluster(d, \"Теория графов\")\n",
    "print(sim_dis_info)\n",
    "print()\n",
    "\n",
    "print(\"Test 2\")\n",
    "#sim_dis_info = disciplines_in_one_cluster(d1['Name'], \"Компьютерные сети\")\n",
    "sim_dis_info = disciplines_in_one_cluster(d, \"Компьютерные сети\")\n",
    "print(sim_dis_info)\n",
    "print()\n",
    "\n",
    "print(\"Test 3\")\n",
    "#sim_dis_info = disciplines_in_one_cluster(d1['Name'], \"Механика\")\n",
    "sim_dis_info = disciplines_in_one_cluster(d, \"Механика\")\n",
    "print(sim_dis_info)\n",
    "print()\n",
    "\n",
    "print(\"Test 4\")\n",
    "#sim_dis_info = disciplines_in_one_cluster(d1['Name'], \"Алгоритмы на графах\")\n",
    "sim_dis_info = disciplines_in_one_cluster(d, \"Алгоритмы на графах\")\n",
    "print(sim_dis_info)"
   ]
  },
  {
   "cell_type": "code",
   "execution_count": 733,
   "metadata": {
    "collapsed": true
   },
   "outputs": [],
   "source": [
    "# рекомендации для студента id_student\n",
    "# информацию о студентах получаем из students_info\n",
    "# выбираем предметы, основываясь на схожести с n_best_students наиболее похожими студентами\n",
    "def make_recomendations(id_student, students_info, subjects_info, n_best_students = 3):\n",
    "    sim_stud = similar_students(id_student, students_info, n_best_students)  \n",
    "    stud_disciplines = [] \n",
    "    disciplines_info = read_subjects(\"disciplines2.csv\")\n",
    "    for d in students_info[id_student].keys():\n",
    "        if d not in stud_disciplines:\n",
    "            #stud_disciplines.append(d)\n",
    "            stud_disciplines.append(disciplines_info[d])    # дисциплины студента id_student\n",
    "            sim_dis_info = disciplines_in_one_cluster(subjects_info, disciplines_info[d])\n",
    "            for sim_dis in sim_dis_info:\n",
    "                if sim_dis not in stud_disciplines:\n",
    "                    stud_disciplines.append(sim_dis) # добавление дисциплин из одного кластера. Проблема : обрезанные/исправленные имена дисциплин\n",
    "    # далее добавление дисциплин \"похожих студентов\" + дисциплины из одних с ним кластеров\n",
    "    # далее убираем все дисциплины, принадлежащие одному кластеру, если есть у id_stud плохие оценки по предметам из этого кластера\n",
    "    # тут возникает новая проблема : а вдруг по предметам из одного кластера у студента разные оценки, например : матан1 - 60 баллов, матан2 - 90 баллов\n",
    "    return stud_disciplines\n",
    "\n",
    "\n",
    "# Добавляются неисправленные имена, в конечном списке будет мешанина : исправленные + неисправленные имена\n",
    "# Посмотреть ф-ию disciplines_in_one_cluster, подправить немного"
   ]
  },
  {
   "cell_type": "code",
   "execution_count": 734,
   "metadata": {},
   "outputs": [
    {
     "name": "stdout",
     "output_type": "stream",
     "text": [
      "Most correlated with studentID: 11\n",
      "StudentID: 5  Coeff: 0.9729210307385605\n",
      "StudentID: 18  Coeff: 0.9683713392884907\n",
      "StudentID: 15  Coeff: 0.967386392071021\n"
     ]
    },
    {
     "data": {
      "text/plain": [
       "['Практикум на ЭВМ',\n",
       " 'практикум решению задач эвм',\n",
       " 'практикум эвм',\n",
       " 'практикум эвм гидроаэродинамике',\n",
       " 'практикум эвм компьютерные сети',\n",
       " 'практикум эвм численные методы',\n",
       " 'Математическая логика и теория множеств',\n",
       " 'cs математическая логика',\n",
       " 'математическая логика',\n",
       " 'математическая логика теория множеств',\n",
       " 'неклассические логики',\n",
       " 'Математический анализ',\n",
       " 'математический анализ',\n",
       " 'математический аппарат базовые модели структурного анализа',\n",
       " 'Алгебра и геометрия',\n",
       " 'алгебра геометрия',\n",
       " 'аналитическая геометрия',\n",
       " 'геометрия',\n",
       " 'геометрия многообразий',\n",
       " 'дифференциальная геометрия теория кривых',\n",
       " 'дифференциальная геометрия топология',\n",
       " 'методы алгебраической геометрии',\n",
       " 'основания геометрии',\n",
       " 'Основы информатики',\n",
       " 'основы информатики',\n",
       " 'теоретические основы информатики',\n",
       " 'теоретические основы школьного курса информатики',\n",
       " 'Иностранный язык',\n",
       " 'иностранный язык',\n",
       " 'Практикум на ЭВМ',\n",
       " 'Дискретная математика',\n",
       " 'актуарная математика',\n",
       " 'вычислительная математика',\n",
       " 'дискретная математика',\n",
       " 'компьютерная математика',\n",
       " 'математика',\n",
       " 'математические модели вычислительные методы финансовой математики',\n",
       " 'научные основы элементарной математики',\n",
       " 'непрерывная математика',\n",
       " 'общие вопросы элементарной математики',\n",
       " 'основы финансовой математики',\n",
       " 'процессы леви финансовая математика',\n",
       " 'элементы компьютерной математики школе',\n",
       " 'Линейная и общая алгебра',\n",
       " 'алгебра',\n",
       " 'алгебра линейных операторов конечномерных линейных пространствах',\n",
       " 'банахова алгебра',\n",
       " 'линейная общая алгебра',\n",
       " 'Алгебра и геометрия',\n",
       " 'Иностранный язык',\n",
       " 'Математический анализ',\n",
       " 'Языки и методы программирования',\n",
       " 'языки методы программирования',\n",
       " 'Иностранный язык',\n",
       " 'Физика',\n",
       " 'mathematical models of continuum mechanics and biomechanics',\n",
       " 'mobile development',\n",
       " 'parallel and distributed programming',\n",
       " 'quantum computing',\n",
       " 'seminar it in engineering',\n",
       " 'бжд',\n",
       " 'виктимология',\n",
       " 'геометрические построения перспективном чертеже',\n",
       " 'государственная власть проблемы исскуства',\n",
       " 'динамика вязкого газа',\n",
       " 'динамика вязкой жидкости',\n",
       " 'интегральные операторы однородными ядрами',\n",
       " 'кодовые криптосистемы',\n",
       " 'кпзс',\n",
       " 'криминология',\n",
       " 'ксе',\n",
       " 'логистика',\n",
       " 'маркетинговые исследования',\n",
       " 'методология разработки сетевых образовательных ресурсов',\n",
       " 'микропрограммирование',\n",
       " 'муниципальные финансы',\n",
       " 'неисковые производства',\n",
       " 'нис',\n",
       " 'операторы типа потенциала',\n",
       " 'ораторское искусство',\n",
       " 'оценка сложности алгоритмов',\n",
       " 'оценка стоимости бизнеса',\n",
       " 'платформа net',\n",
       " 'поведение потребителей',\n",
       " 'правовые основы антикризисного управления',\n",
       " 'программная инженерия',\n",
       " 'проект',\n",
       " 'связи общественностью',\n",
       " 'стеганография',\n",
       " 'стохастическое интегрирование',\n",
       " 'субд oracle',\n",
       " 'суперкомпьютеры',\n",
       " 'суперэвм',\n",
       " 'управление качеством',\n",
       " 'управление проектами',\n",
       " 'управление стоимостью компании',\n",
       " 'управление человеческими ресурсами',\n",
       " 'уравнения коши римана',\n",
       " 'факультатив',\n",
       " 'физвоспитание',\n",
       " 'физика',\n",
       " 'экономико правовой модуль',\n",
       " 'юридическая конфликтология',\n",
       " 'Дифференциальные уравнения',\n",
       " 'группы дифференциальные уравнения',\n",
       " 'дифференциальные уравнения',\n",
       " 'интегро дифференциальные уравнения финансовой математики',\n",
       " 'Универсальный пакет Maple',\n",
       " 'универсальный пакет maple',\n",
       " 'Языки и методы программирования',\n",
       " 'Математический анализ',\n",
       " 'Компьютерная верстка в TeX',\n",
       " 'компьютерная биомеханика',\n",
       " 'компьютерная верстка tex',\n",
       " 'компьютерная графика',\n",
       " 'компьютерное моделирование',\n",
       " 'компьютерное моделирование ansys',\n",
       " 'компьютерное моделирование maple',\n",
       " 'компьютерное моделирование научных исследованиях',\n",
       " 'компьютерные науки',\n",
       " 'курс профилизации компьютерное моделирование потоков',\n",
       " 'моделирование компьютерный дизайн композитных материалов',\n",
       " 'проeкционно сеточные методы моделирование matlab',\n",
       " 'Иностранный язык',\n",
       " 'Языки и методы программирования',\n",
       " 'Философия',\n",
       " 'философия',\n",
       " 'Операционные системы',\n",
       " 'интеллектуальные системы',\n",
       " 'мониторинг управление сложными системами',\n",
       " 'операционные системы',\n",
       " 'Дифференциальные уравнения',\n",
       " 'Архитектура компьютеров',\n",
       " 'аналитическая аэрогидродинамика компьютере',\n",
       " 'архитектура вычислительных систем',\n",
       " 'архитектура компьютера',\n",
       " 'архитектура компьютеров',\n",
       " 'архитектура ос windows',\n",
       " 'архитектуры пк',\n",
       " 'Введение в UNIX-подобные OC',\n",
       " 'введение unix подобные oc',\n",
       " 'введение ооп',\n",
       " 'ооп c',\n",
       " 'БЖД',\n",
       " 'Физика',\n",
       " 'Иностранный язык',\n",
       " 'Программирование на C и C++',\n",
       " 'логическое программирование',\n",
       " 'программирование',\n",
       " 'программирование c c',\n",
       " 'Комплексный анализ',\n",
       " 'анализ обработка изображений',\n",
       " 'комплексный анализ',\n",
       " 'современные технологии сбора обработки анализа правовой информации',\n",
       " 'стохастический анализ',\n",
       " 'Учебная практика',\n",
       " 'учебная практика',\n",
       " 'Стандартная библиотека C++',\n",
       " 'стандартная библиотека c',\n",
       " 'Методы оптимизации и исследование операций',\n",
       " 'исследование операций',\n",
       " 'исследование операций методы оптимизации',\n",
       " 'методы оптимизации исследование операций',\n",
       " 'Практикум на ЭВМ (численные методы)',\n",
       " 'Уравнения математической физики',\n",
       " 'математическая физика',\n",
       " 'прикладные задачи математической физики',\n",
       " 'уравнения математической физики',\n",
       " 'CS207. Математические основы защиты информации',\n",
       " 'cs математические основы защиты информации',\n",
       " 'Оценка сложности алгоритмов',\n",
       " 'Векторный анализ и теория поля',\n",
       " 'векторный анализ теория поля',\n",
       " 'Программирование в среде Windows',\n",
       " 'программирование среде windows',\n",
       " 'Компьютерные сети',\n",
       " 'защита сетях',\n",
       " 'компьютерные сети',\n",
       " 'Физвоспитание',\n",
       " '\\ufeffЭкономическая теория',\n",
       " 'cs теория алгоритмов',\n",
       " 'избранные разделы алгебры теории чисел',\n",
       " 'теория автоматов шифров',\n",
       " 'теория алгоритмов',\n",
       " 'теория изгибаний',\n",
       " 'теория информации',\n",
       " 'теория катастроф приложения',\n",
       " 'теория кодирования',\n",
       " 'теория поверхностей',\n",
       " 'теория сферических гармоник',\n",
       " 'теория федерализма',\n",
       " 'теория чисел',\n",
       " 'фи теория',\n",
       " 'экономическая теория',\n",
       " 'Уравнения математической физики',\n",
       " 'Численные методы',\n",
       " 'современные численные методы',\n",
       " 'численные методы',\n",
       " 'численные методы аэрогидродинамике',\n",
       " 'численные методы обработки данных',\n",
       " 'Алгоритмы на графах',\n",
       " 'алгоритмы графах',\n",
       " 'алгоритмы оптимизации графах',\n",
       " 'Правоведение',\n",
       " 'правоведение',\n",
       " 'Моделирование сложных систем',\n",
       " 'моделирование живых систем',\n",
       " 'моделирование информационных систем',\n",
       " 'моделирование сложных систем']"
      ]
     },
     "execution_count": 734,
     "metadata": {},
     "output_type": "execute_result"
    }
   ],
   "source": [
    "students_rating = read_file(\"students_rating.csv\")\n",
    "#print(students_rating)\n",
    "r = make_recomendations('11', students_rating, d)\n",
    "r"
   ]
  }
 ],
 "metadata": {
  "kernelspec": {
   "display_name": "Python 3",
   "language": "python",
   "name": "python3"
  },
  "language_info": {
   "codemirror_mode": {
    "name": "ipython",
    "version": 3
   },
   "file_extension": ".py",
   "mimetype": "text/x-python",
   "name": "python",
   "nbconvert_exporter": "python",
   "pygments_lexer": "ipython3",
   "version": "3.6.0"
  }
 },
 "nbformat": 4,
 "nbformat_minor": 2
}
