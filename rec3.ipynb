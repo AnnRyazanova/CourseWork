{
 "cells": [
  {
   "cell_type": "code",
   "execution_count": 9,
   "metadata": {
    "collapsed": true
   },
   "outputs": [],
   "source": [
    "import pandas as pd\n",
    "from scipy.spatial.distance import cosine"
   ]
  },
  {
   "cell_type": "code",
   "execution_count": 10,
   "metadata": {
    "collapsed": true
   },
   "outputs": [],
   "source": [
    "import csv\n",
    "def ReadFile(filename):\n",
    "    f = open(filename)\n",
    "    r = csv.reader(f)\n",
    "    mentions = dict()\n",
    "    for line in r:\n",
    "        student = line[0]\n",
    "        discipline = line[6]\n",
    "        type_d = line[7]\n",
    "        sem_rate = int(line[8])\n",
    "        bonus = int(line[9])\n",
    "        exam_rate = int(line[10])\n",
    "#         discipline, type_d, sem_rate, bonus, exam_rate = [int(i) for i in line[6:11]]\n",
    "        rate = 0\n",
    "        if type_d == 'exam':\n",
    "            if (sem_rate >= 38) & (exam_rate >= 22):\n",
    "                rate = sem_rate + exam_rate + bonus\n",
    "        else: \n",
    "            if (sem_rate >= 60):\n",
    "                rate = sem_rate + bonus\n",
    "        if not student in mentions:\n",
    "            mentions[student] = dict()\n",
    "        mentions[student][discipline] = rate\n",
    "    f.close()\n",
    "    return mentions"
   ]
  },
  {
   "cell_type": "code",
   "execution_count": 11,
   "metadata": {
    "collapsed": true
   },
   "outputs": [],
   "source": [
    "#data = ReadFile(\"raw_data32.csv\")\n",
    "#data"
   ]
  },
  {
   "cell_type": "code",
   "execution_count": 12,
   "metadata": {
    "collapsed": true
   },
   "outputs": [],
   "source": [
    "# косинусная мера : насколько два пользователя похожи друг на друга. \n",
    "def distCosine (vecA, vecB):\n",
    "    def dotProduct (vecA, vecB):\n",
    "        d = 0.0\n",
    "        for dim in vecA:\n",
    "            if dim in vecB:\n",
    "                d += vecA[dim]*vecB[dim]\n",
    "        return d\n",
    "    a = dotProduct (vecA,vecB)\n",
    "    b = math.sqrt(dotProduct(vecA,vecA))\n",
    "    c = math.sqrt(dotProduct(vecB,vecB))\n",
    "    if (a == 0) or (b == 0) or (c == 0):\n",
    "        return 0\n",
    "    else:\n",
    "        return  (a / (b * c))"
   ]
  },
  {
   "cell_type": "code",
   "execution_count": 13,
   "metadata": {
    "collapsed": true
   },
   "outputs": [],
   "source": [
    "import math\n",
    "def makeRecommendation (studentID, studentRates, nBestStudents, nBestDisciplines):\n",
    "    matches = [(u, distCosine(studentRates[studentID], studentRates[u])) for u in studentRates if u != studentID]\n",
    "    bestMatches = sorted(matches, key=lambda q :(q[1],q[0]), reverse=True)[:nBestStudents]\n",
    "    print(\"Most correlated with studentID: \" + str(studentID))\n",
    "    for line in bestMatches:\n",
    "        print(\"  StudentID: \" + str(line[0]) + \"  Coeff: \" + str(line[1])) \n",
    "    sim = dict()\n",
    "    sim_all = sum([x[1] for x in bestMatches])\n",
    "    bestMatches = dict([x for x in bestMatches if x[1] > 0.0])        \n",
    "    for relatedStudent in bestMatches:\n",
    "        for discipline in studentRates[relatedStudent]:\n",
    "            if not discipline in studentRates[studentID]:\n",
    "                if not discipline in sim:\n",
    "                    sim[discipline] = 0.0\n",
    "                sim[discipline] += studentRates[relatedStudent][discipline] * bestMatches[relatedStudent]\n",
    "    for discipline in sim:\n",
    "        sim[discipline] /= sim_all\n",
    "    #bestDisciplines = sorted(sim.iteritems(), key=lambda q :(q[0],q[1]), reverse=True)[:nBestDisciplines]\n",
    "    bestDisciplines = sorted(sim.items(), key=lambda q :(q[1],q[0]), reverse=True)[:nBestDisciplines]\n",
    "    print (\"Most correlated disciplines:\")\n",
    "    for disciplineInfo in bestDisciplines:    \n",
    "        print (\"  DisciplineID: \" + str(disciplineInfo[0]) + \" CorrelationCoeff: \" + str(disciplineInfo[1]))\n",
    "    return [(x[0], x[1]) for x in bestDisciplines]"
   ]
  },
  {
   "cell_type": "code",
   "execution_count": 14,
   "metadata": {},
   "outputs": [
    {
     "name": "stdout",
     "output_type": "stream",
     "text": [
      "Most correlated with studentID: 6\n",
      "  StudentID: 7  Coeff: 0.9777545782936696\n",
      "  StudentID: 9  Coeff: 0.9291546126464784\n",
      "  StudentID: 5  Coeff: 0.8879638025780343\n",
      "Most correlated disciplines:\n",
      "  DisciplineID: 1830 CorrelationCoeff: 31.77116830129253\n",
      "  DisciplineID: 2004 CorrelationCoeff: 0.0\n"
     ]
    }
   ],
   "source": [
    "rec = makeRecommendation ('6', ReadFile(\"raw_data32.csv\"), 3,4)"
   ]
  },
  {
   "cell_type": "code",
   "execution_count": null,
   "metadata": {},
   "outputs": [],
   "source": []
  }
 ],
 "metadata": {
  "kernelspec": {
   "display_name": "Python 3",
   "language": "python",
   "name": "python3"
  },
  "language_info": {
   "codemirror_mode": {
    "name": "ipython",
    "version": 3
   },
   "file_extension": ".py",
   "mimetype": "text/x-python",
   "name": "python",
   "nbconvert_exporter": "python",
   "pygments_lexer": "ipython3",
   "version": "3.6.0"
  }
 },
 "nbformat": 4,
 "nbformat_minor": 2
}
